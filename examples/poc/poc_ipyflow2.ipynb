{
 "cells": [
  {
   "cell_type": "code",
   "execution_count": 1,
   "id": "4811ef56-0402-4bee-bab1-326285f4c441",
   "metadata": {},
   "outputs": [
    {
     "name": "stderr",
     "output_type": "stream",
     "text": [
      "mismatch between cell counter (4) and saved ipython counter (1)\n",
      "fixing up to actual counter of 1\n"
     ]
    }
   ],
   "source": [
    "from can.interface import Bus\n",
    "from cantools.database import load_file"
   ]
  },
  {
   "cell_type": "code",
   "execution_count": 2,
   "id": "2aedebb9-f1a6-4d20-b968-a8c06ebad696",
   "metadata": {},
   "outputs": [
    {
     "name": "stdout",
     "output_type": "stream",
     "text": [
      "['c:\\\\Work\\\\Github\\\\python-canbro\\\\examples\\\\poc', 'c:\\\\Users\\\\lukas.riegler\\\\AppData\\\\Local\\\\Programs\\\\Python\\\\Python312\\\\python312.zip', 'c:\\\\Users\\\\lukas.riegler\\\\AppData\\\\Local\\\\Programs\\\\Python\\\\Python312\\\\DLLs', 'c:\\\\Users\\\\lukas.riegler\\\\AppData\\\\Local\\\\Programs\\\\Python\\\\Python312\\\\Lib', 'c:\\\\Users\\\\lukas.riegler\\\\AppData\\\\Local\\\\Programs\\\\Python\\\\Python312', '', 'c:\\\\Users\\\\lukas.riegler\\\\AppData\\\\Local\\\\Programs\\\\Python\\\\Python312\\\\Lib\\\\site-packages', 'c:\\\\Users\\\\lukas.riegler\\\\AppData\\\\Local\\\\Programs\\\\Python\\\\Python312\\\\Lib\\\\site-packages\\\\win32', 'c:\\\\Users\\\\lukas.riegler\\\\AppData\\\\Local\\\\Programs\\\\Python\\\\Python312\\\\Lib\\\\site-packages\\\\win32\\\\lib', 'c:\\\\Users\\\\lukas.riegler\\\\AppData\\\\Local\\\\Programs\\\\Python\\\\Python312\\\\Lib\\\\site-packages\\\\Pythonwin', 'c:\\\\Work\\\\Github\\\\python-canbro\\\\examples\\\\poc', 'c:\\\\Work\\\\Github\\\\python-canbro\\\\examples\\\\poc\\\\..\\\\..']\n"
     ]
    }
   ],
   "source": [
    "import sys\n",
    "import os\n",
    "sys.path.append(os.getcwd())\n",
    "sys.path.append(os.getcwd() + '\\\\..\\\\..')\n",
    "print(sys.path)\n",
    "import logging\n",
    "#logging.basicConfig(level=logging.DEBUG)"
   ]
  },
  {
   "cell_type": "code",
   "execution_count": 3,
   "id": "a171d224",
   "metadata": {},
   "outputs": [],
   "source": [
    "from broqer import Sink\n",
    "import ipywidgets as widgets"
   ]
  },
  {
   "cell_type": "code",
   "execution_count": 4,
   "id": "c6742106-8f39-4040-9c14-e96934f5c8c1",
   "metadata": {},
   "outputs": [],
   "source": [
    "from canbro import Node"
   ]
  },
  {
   "cell_type": "code",
   "execution_count": 23,
   "id": "ce37fd29",
   "metadata": {},
   "outputs": [
    {
     "ename": "SyntaxError",
     "evalue": "expected argument value expression (2540172681.py, line 2)",
     "output_type": "error",
     "traceback": [
      "\u001b[1;36m  Cell \u001b[1;32mIn[23], line 2\u001b[1;36m\u001b[0m\n\u001b[1;33m    new_node = Node.ba = property(fget=self.__dict__[\"_get_\"+signal.name], fset=,  doc=\"The signal property.\" )\u001b[0m\n\u001b[1;37m                                                                           ^\u001b[0m\n\u001b[1;31mSyntaxError\u001b[0m\u001b[1;31m:\u001b[0m expected argument value expression\n"
     ]
    }
   ],
   "source": [
    "Node._get_ba = lambda self: self._ba\n",
    "Node._set_ba = lambda self,value: value+1\n",
    "new_node = Node.ba = property(fget=self.__dict__[\"_get_\"+signal.name], fset=,  doc=\"The signal property.\" )"
   ]
  },
  {
   "cell_type": "code",
   "execution_count": null,
   "id": "9db51d94",
   "metadata": {},
   "outputs": [],
   "source": []
  },
  {
   "cell_type": "code",
   "execution_count": 5,
   "id": "c2372e60-48f9-4f4d-8981-cffb257311cf",
   "metadata": {},
   "outputs": [],
   "source": [
    "db = load_file('..\\\\J1939.dbc')"
   ]
  },
  {
   "cell_type": "code",
   "execution_count": 6,
   "id": "8c87fdc5-ae05-48ee-8e00-ecef656b527a",
   "metadata": {},
   "outputs": [],
   "source": [
    "bus_e= Bus('test', interface='virtual')\n",
    "ecu = Node(name=db._nodes[0].name,bus=bus_e,database=db )"
   ]
  },
  {
   "cell_type": "code",
   "execution_count": 7,
   "id": "3136cd47",
   "metadata": {},
   "outputs": [],
   "source": [
    "bus_v= Bus('test', interface='virtual')\n",
    "vcu= Node(name=db._nodes[1].name,bus=bus_v,database=db )"
   ]
  },
  {
   "cell_type": "code",
   "execution_count": 8,
   "id": "1559e829",
   "metadata": {},
   "outputs": [],
   "source": [
    "label_value = widgets.Label(value=\"value=?\")\n",
    "def show_vcu_value(value, label: widgets.Label):\n",
    "    label.value = 'value={}'.format(value)"
   ]
  },
  {
   "cell_type": "code",
   "execution_count": 9,
   "id": "477c8043",
   "metadata": {},
   "outputs": [],
   "source": [
    "show_print = vcu.Message2._signal_Signal2.subscribe(Sink(show_vcu_value, label=label_value))"
   ]
  },
  {
   "cell_type": "code",
   "execution_count": 10,
   "id": "83ded27c-d94a-4893-8be5-e6861ebb4c50",
   "metadata": {},
   "outputs": [],
   "source": [
    "ecu.Message2.start_periodic()"
   ]
  },
  {
   "cell_type": "code",
   "execution_count": 16,
   "id": "9313eea9",
   "metadata": {},
   "outputs": [],
   "source": [
    "ecu.Message2._signal_Signal2.notify(22)"
   ]
  },
  {
   "cell_type": "code",
   "execution_count": 12,
   "id": "3d26f282",
   "metadata": {},
   "outputs": [
    {
     "data": {
      "application/vnd.jupyter.widget-view+json": {
       "model_id": "a3aea30883794c43b81859f42036f730",
       "version_major": 2,
       "version_minor": 0
      },
      "text/plain": [
       "Label(value='value=10')"
      ]
     },
     "metadata": {},
     "output_type": "display_data"
    }
   ],
   "source": [
    "display(label_value)"
   ]
  },
  {
   "cell_type": "code",
   "execution_count": 13,
   "id": "ac5f088b",
   "metadata": {},
   "outputs": [
    {
     "data": {
      "application/vnd.jupyter.widget-view+json": {
       "model_id": "8e56da24c04641d0aac96276a6a2481e",
       "version_major": 2,
       "version_minor": 0
      },
      "text/plain": [
       "Button(description='Start', style=ButtonStyle())"
      ]
     },
     "metadata": {},
     "output_type": "display_data"
    },
    {
     "name": "stdout",
     "output_type": "stream",
     "text": [
      "show Count: 0\n",
      "show Count: 1\n",
      "show Count: 2\n",
      "show Count: 3\n",
      "show Count: 4\n",
      "show Count: 5\n",
      "show Count: 6\n",
      "show Count: 7\n",
      "show Count: 8\n",
      "show Count: 9\n",
      "show Count: 10\n",
      "show Count: 11\n",
      "show Count: 12\n",
      "show Count: 13\n",
      "show Count: 14\n",
      "show Count: 15\n",
      "show Count: 16\n",
      "show Count: 17\n",
      "show Count: 18\n",
      "show Count: 19\n"
     ]
    }
   ],
   "source": [
    "\n",
    "import asyncio\n",
    "import ipywidgets as widgets\n",
    "\n",
    "async def update_ecu_value():\n",
    "    for i in range(20):\n",
    "        ecu.Message2._signal_Signal2.notify(i)\n",
    "        print(f'show Count: {i}')\n",
    "        await asyncio.sleep(1)\n",
    "\n",
    "def run_task(button):\n",
    "    asyncio.run(update_ecu_value())\n",
    "\n",
    "button = widgets.Button(description='Start')\n",
    "button.on_click(run_task)\n",
    "\n",
    "display(button)"
   ]
  },
  {
   "cell_type": "code",
   "execution_count": 14,
   "id": "27769c02",
   "metadata": {},
   "outputs": [],
   "source": [
    "#ecu.Message2.stop_periodic()"
   ]
  },
  {
   "cell_type": "code",
   "execution_count": 15,
   "id": "6145b3fd",
   "metadata": {},
   "outputs": [],
   "source": [
    "#logging.basicConfig(level=logging.ERROR)"
   ]
  }
 ],
 "metadata": {
  "ipyflow": {
   "cell_children": {
    "009f37f9-342d-4ea0-a45b-6072f4c02671": [],
    "0150678a-ad32-4d4a-8e1b-b49811d0c7c6": [],
    "0c776e80-7c15-4899-94ec-7b9e4383995d": [],
    "15ff42c9-740a-4ba3-829d-2c839969b884": [],
    "1729d440-8793-4e9a-ba57-7c8e6b39c062": [
     "0c776e80-7c15-4899-94ec-7b9e4383995d",
     "d27da040-bc2b-4c79-b2d7-f3e141cbc412",
     "db80f848-d3d3-4e34-9559-922ba7826f96"
    ],
    "175bb759-5dbb-44f8-8a49-bbc1c1f3d9ab": [
     "8fe49b1d-b26f-4178-b356-e23fda7f5561"
    ],
    "2aedebb9-f1a6-4d20-b968-a8c06ebad696": [],
    "2b65fdb5-24e2-4d93-8bf9-c267e699a206": [],
    "2fd68bfb-bcb3-4cb1-ba4f-f85d9252d739": [],
    "36c8d914-9c32-4364-ae55-09753dc2a097": [],
    "38220955-3c88-4b49-a240-36be0bb0cbb9": [],
    "3e24a9bc-3f26-4aca-9802-38868326daf3": [],
    "4622e52d-a6cc-470e-8efe-091994b1012d": [],
    "4811ef56-0402-4bee-bab1-326285f4c441": [
     "c2372e60-48f9-4f4d-8981-cffb257311cf",
     "8c87fdc5-ae05-48ee-8e00-ecef656b527a"
    ],
    "5be0e22d-561a-4427-88ce-100ecfcd352c": [],
    "65d3cc5d-3202-4aae-b698-eed1d1c6607c": [],
    "781b5f7b-4136-49d8-bbe8-bbcdf86cbe52": [
     "bcc1cdb6-7239-48bc-a3e2-43ced13b3606",
     "5be0e22d-561a-4427-88ce-100ecfcd352c",
     "eaeb709c-1018-4780-b788-68dfbf11c83c"
    ],
    "83ded27c-d94a-4893-8be5-e6861ebb4c50": [
     "781b5f7b-4136-49d8-bbe8-bbcdf86cbe52",
     "e4d1a84b-0e86-4614-a0b3-155bebeefb81",
     "c9312c9a-0729-4e53-b303-0e7cfd976d44"
    ],
    "8c87fdc5-ae05-48ee-8e00-ecef656b527a": [
     "bcc1cdb6-7239-48bc-a3e2-43ced13b3606",
     "4622e52d-a6cc-470e-8efe-091994b1012d",
     "e4d1a84b-0e86-4614-a0b3-155bebeefb81",
     "eaeb709c-1018-4780-b788-68dfbf11c83c",
     "c9312c9a-0729-4e53-b303-0e7cfd976d44",
     "5be0e22d-561a-4427-88ce-100ecfcd352c",
     "83ded27c-d94a-4893-8be5-e6861ebb4c50",
     "781b5f7b-4136-49d8-bbe8-bbcdf86cbe52"
    ],
    "8fe49b1d-b26f-4178-b356-e23fda7f5561": [],
    "bcc1cdb6-7239-48bc-a3e2-43ced13b3606": [],
    "bd34777a-a7ab-47b9-ac8b-51cfe346f90c": [
     "38220955-3c88-4b49-a240-36be0bb0cbb9",
     "4622e52d-a6cc-470e-8efe-091994b1012d"
    ],
    "c2372e60-48f9-4f4d-8981-cffb257311cf": [
     "8c87fdc5-ae05-48ee-8e00-ecef656b527a"
    ],
    "c6742106-8f39-4040-9c14-e96934f5c8c1": [
     "8c87fdc5-ae05-48ee-8e00-ecef656b527a"
    ],
    "c9312c9a-0729-4e53-b303-0e7cfd976d44": [],
    "d27da040-bc2b-4c79-b2d7-f3e141cbc412": [],
    "db80f848-d3d3-4e34-9559-922ba7826f96": [],
    "e4d1a84b-0e86-4614-a0b3-155bebeefb81": [],
    "eaeb709c-1018-4780-b788-68dfbf11c83c": [],
    "f6e68e4a-6bf2-475c-8028-04a0aa4d874f": []
   },
   "cell_parents": {
    "009f37f9-342d-4ea0-a45b-6072f4c02671": [],
    "0150678a-ad32-4d4a-8e1b-b49811d0c7c6": [],
    "0c776e80-7c15-4899-94ec-7b9e4383995d": [],
    "15ff42c9-740a-4ba3-829d-2c839969b884": [],
    "1729d440-8793-4e9a-ba57-7c8e6b39c062": [],
    "175bb759-5dbb-44f8-8a49-bbc1c1f3d9ab": [],
    "2aedebb9-f1a6-4d20-b968-a8c06ebad696": [],
    "2b65fdb5-24e2-4d93-8bf9-c267e699a206": [],
    "2fd68bfb-bcb3-4cb1-ba4f-f85d9252d739": [],
    "36c8d914-9c32-4364-ae55-09753dc2a097": [
     "2aedebb9-f1a6-4d20-b968-a8c06ebad696"
    ],
    "38220955-3c88-4b49-a240-36be0bb0cbb9": [
     "bd34777a-a7ab-47b9-ac8b-51cfe346f90c"
    ],
    "3e24a9bc-3f26-4aca-9802-38868326daf3": [],
    "4622e52d-a6cc-470e-8efe-091994b1012d": [
     "bd34777a-a7ab-47b9-ac8b-51cfe346f90c",
     "8c87fdc5-ae05-48ee-8e00-ecef656b527a"
    ],
    "4811ef56-0402-4bee-bab1-326285f4c441": [],
    "5be0e22d-561a-4427-88ce-100ecfcd352c": [
     "781b5f7b-4136-49d8-bbe8-bbcdf86cbe52",
     "8c87fdc5-ae05-48ee-8e00-ecef656b527a"
    ],
    "65d3cc5d-3202-4aae-b698-eed1d1c6607c": [],
    "781b5f7b-4136-49d8-bbe8-bbcdf86cbe52": [
     "83ded27c-d94a-4893-8be5-e6861ebb4c50",
     "8c87fdc5-ae05-48ee-8e00-ecef656b527a"
    ],
    "83ded27c-d94a-4893-8be5-e6861ebb4c50": [
     "8c87fdc5-ae05-48ee-8e00-ecef656b527a"
    ],
    "8c87fdc5-ae05-48ee-8e00-ecef656b527a": [
     "c6742106-8f39-4040-9c14-e96934f5c8c1",
     "c2372e60-48f9-4f4d-8981-cffb257311cf",
     "4811ef56-0402-4bee-bab1-326285f4c441"
    ],
    "8fe49b1d-b26f-4178-b356-e23fda7f5561": [
     "175bb759-5dbb-44f8-8a49-bbc1c1f3d9ab"
    ],
    "bcc1cdb6-7239-48bc-a3e2-43ced13b3606": [
     "781b5f7b-4136-49d8-bbe8-bbcdf86cbe52",
     "8c87fdc5-ae05-48ee-8e00-ecef656b527a"
    ],
    "bd34777a-a7ab-47b9-ac8b-51cfe346f90c": [],
    "c2372e60-48f9-4f4d-8981-cffb257311cf": [
     "4811ef56-0402-4bee-bab1-326285f4c441"
    ],
    "c6742106-8f39-4040-9c14-e96934f5c8c1": [],
    "c9312c9a-0729-4e53-b303-0e7cfd976d44": [
     "83ded27c-d94a-4893-8be5-e6861ebb4c50",
     "8c87fdc5-ae05-48ee-8e00-ecef656b527a"
    ],
    "d27da040-bc2b-4c79-b2d7-f3e141cbc412": [],
    "db80f848-d3d3-4e34-9559-922ba7826f96": [],
    "e4d1a84b-0e86-4614-a0b3-155bebeefb81": [
     "83ded27c-d94a-4893-8be5-e6861ebb4c50",
     "8c87fdc5-ae05-48ee-8e00-ecef656b527a"
    ],
    "eaeb709c-1018-4780-b788-68dfbf11c83c": [
     "781b5f7b-4136-49d8-bbe8-bbcdf86cbe52",
     "8c87fdc5-ae05-48ee-8e00-ecef656b527a"
    ],
    "f6e68e4a-6bf2-475c-8028-04a0aa4d874f": []
   }
  },
  "kernelspec": {
   "display_name": "Python 3 (ipyflow)",
   "language": "python",
   "name": "ipyflow"
  },
  "language_info": {
   "codemirror_mode": {
    "name": "ipython",
    "version": 3
   },
   "file_extension": ".py",
   "mimetype": "text/x-python",
   "name": "python",
   "nbconvert_exporter": "python",
   "pygments_lexer": "ipython3",
   "version": "3.12.0"
  }
 },
 "nbformat": 4,
 "nbformat_minor": 5
}
