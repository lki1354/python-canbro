{
 "cells": [
  {
   "cell_type": "code",
   "execution_count": 2,
   "id": "4811ef56-0402-4bee-bab1-326285f4c441",
   "metadata": {},
   "outputs": [],
   "source": [
    "from can.interface import Bus\n",
    "from cantools.database import load_file"
   ]
  },
  {
   "cell_type": "code",
   "execution_count": 3,
   "id": "2aedebb9-f1a6-4d20-b968-a8c06ebad696",
   "metadata": {},
   "outputs": [
    {
     "name": "stdout",
     "output_type": "stream",
     "text": [
      "['c:\\\\Work\\\\Github\\\\python-canbro\\\\examples\\\\poc', 'c:\\\\Users\\\\lukas.riegler\\\\AppData\\\\Local\\\\Programs\\\\Python\\\\Python312\\\\python312.zip', 'c:\\\\Users\\\\lukas.riegler\\\\AppData\\\\Local\\\\Programs\\\\Python\\\\Python312\\\\DLLs', 'c:\\\\Users\\\\lukas.riegler\\\\AppData\\\\Local\\\\Programs\\\\Python\\\\Python312\\\\Lib', 'c:\\\\Users\\\\lukas.riegler\\\\AppData\\\\Local\\\\Programs\\\\Python\\\\Python312', '', 'c:\\\\Users\\\\lukas.riegler\\\\AppData\\\\Local\\\\Programs\\\\Python\\\\Python312\\\\Lib\\\\site-packages', 'c:\\\\Users\\\\lukas.riegler\\\\AppData\\\\Local\\\\Programs\\\\Python\\\\Python312\\\\Lib\\\\site-packages\\\\win32', 'c:\\\\Users\\\\lukas.riegler\\\\AppData\\\\Local\\\\Programs\\\\Python\\\\Python312\\\\Lib\\\\site-packages\\\\win32\\\\lib', 'c:\\\\Users\\\\lukas.riegler\\\\AppData\\\\Local\\\\Programs\\\\Python\\\\Python312\\\\Lib\\\\site-packages\\\\Pythonwin', 'c:\\\\Work\\\\Github\\\\python-canbro\\\\examples\\\\poc', 'c:\\\\Work\\\\Github\\\\python-canbro\\\\examples\\\\poc\\\\..\\\\..']\n"
     ]
    }
   ],
   "source": [
    "import sys\n",
    "import os\n",
    "sys.path.append(os.getcwd())\n",
    "sys.path.append(os.getcwd() + '\\\\..\\\\..')\n",
    "print(sys.path)\n",
    "import logging\n",
    "logging.basicConfig(level=logging.DEBUG)"
   ]
  },
  {
   "cell_type": "code",
   "execution_count": 4,
   "id": "a171d224",
   "metadata": {},
   "outputs": [],
   "source": [
    "from broqer import Sink\n",
    "import ipywidgets as widgets"
   ]
  },
  {
   "cell_type": "code",
   "execution_count": 5,
   "id": "c6742106-8f39-4040-9c14-e96934f5c8c1",
   "metadata": {},
   "outputs": [],
   "source": [
    "from canbro import Node"
   ]
  },
  {
   "cell_type": "code",
   "execution_count": 6,
   "id": "c2372e60-48f9-4f4d-8981-cffb257311cf",
   "metadata": {},
   "outputs": [
    {
     "data": {
      "text/plain": [
       "[node('ECU', None), node('CONTROL', None)]"
      ]
     },
     "execution_count": 6,
     "metadata": {},
     "output_type": "execute_result"
    }
   ],
   "source": [
    "db = load_file('device_CAN.dbc')\n",
    "db.nodes"
   ]
  },
  {
   "cell_type": "code",
   "execution_count": 7,
   "id": "8c87fdc5-ae05-48ee-8e00-ecef656b527a",
   "metadata": {},
   "outputs": [
    {
     "name": "stderr",
     "output_type": "stream",
     "text": [
      "DEBUG:can:can config: {'interface': 'virtual', 'channel': 'test'}\n",
      "DEBUG:root:Create signal values for <canbro.node.Node object at 0x000001DA5271EAB0>\n",
      "DEBUG:root:['ECU']\n",
      "DEBUG:root:Create sender message STATUS\n",
      "DEBUG:root:create message STATUS\n",
      "DEBUG:root:['ECU']\n",
      "DEBUG:root:Create sender message MEASURE\n",
      "DEBUG:root:create message MEASURE\n",
      "DEBUG:root:['CONTROL']\n",
      "DEBUG:root:Create receiver message DEM\n",
      "DEBUG:root:create message DEM\n",
      "DEBUG:root:['CONTROL']\n",
      "DEBUG:root:Create receiver message NM_Control_MSG\n",
      "DEBUG:root:create message NM_Control_MSG\n",
      "INFO:root:set data ids, but just autosar profile 2 is supported!\n"
     ]
    }
   ],
   "source": [
    "bus_e= Bus('test', interface='virtual')\n",
    "ecu = Node(name=\"ECU\",bus=bus_e,database=db )\n",
    "data_ids = [0x42, 0x52, 0x55, 0x53, 0x41, 0x20, 0x48, 0x59, 0x50, 0x4F, 0x57, 0x45, 0x52, 0x20, 0x41, 0x47]\n",
    "ecu.DEM.add_data_ids(data_ids, \"DEM_CRC\", \"DEM_SNC\")  "
   ]
  },
  {
   "cell_type": "code",
   "execution_count": 8,
   "id": "3136cd47",
   "metadata": {},
   "outputs": [
    {
     "name": "stderr",
     "output_type": "stream",
     "text": [
      "DEBUG:can:can config: {'interface': 'virtual', 'channel': 'Test'}\n",
      "DEBUG:root:Create signal values for <canbro.node.Node object at 0x000001DA526F4E60>\n",
      "DEBUG:root:['ECU']\n",
      "DEBUG:root:Create receiver message STATUS\n",
      "DEBUG:root:create message STATUS\n",
      "DEBUG:root:['ECU']\n",
      "DEBUG:root:Create receiver message MEASURE\n",
      "DEBUG:root:create message MEASURE\n",
      "DEBUG:root:['CONTROL']\n",
      "DEBUG:root:Create sender message DEM\n",
      "DEBUG:root:create message DEM\n",
      "DEBUG:root:['CONTROL']\n",
      "DEBUG:root:Create sender message NM_Control_MSG\n",
      "DEBUG:root:create message NM_Control_MSG\n",
      "INFO:root:set data ids, but just autosar profile 2 is supported!\n"
     ]
    }
   ],
   "source": [
    "bus_v= Bus('Test', interface='virtual')\n",
    "vcu= Node(name='CONTROL',bus=bus_v,database=db )\n",
    "vcu.DEM.add_data_ids(data_ids, \"DEM_CRC\", \"DEM_SNC\")   "
   ]
  },
  {
   "cell_type": "code",
   "execution_count": 25,
   "id": "1559e829",
   "metadata": {},
   "outputs": [],
   "source": [
    "label_value = widgets.Label(value=\"value=?\")\n",
    "def show_vcu_value(value, label: widgets.Label):\n",
    "    label.value = 'value={}'.format(value)"
   ]
  },
  {
   "cell_type": "code",
   "execution_count": 26,
   "id": "477c8043",
   "metadata": {},
   "outputs": [],
   "source": [
    "show_print = ecu.DEM._signal_operation_mode.subscribe(Sink(show_vcu_value, label=label_value))"
   ]
  },
  {
   "cell_type": "code",
   "execution_count": 27,
   "id": "21466f36",
   "metadata": {},
   "outputs": [
    {
     "data": {
      "text/plain": [
       "0"
      ]
     },
     "execution_count": 27,
     "metadata": {},
     "output_type": "execute_result"
    }
   ],
   "source": [
    "vcu.DEM._signal_operation_mode._metadata.initial"
   ]
  },
  {
   "cell_type": "code",
   "execution_count": 28,
   "id": "75e4ab22",
   "metadata": {},
   "outputs": [],
   "source": [
    "vcu.DEM._signal_operation_mode._metadata.initial=0"
   ]
  },
  {
   "cell_type": "code",
   "execution_count": 30,
   "id": "83ded27c-d94a-4893-8be5-e6861ebb4c50",
   "metadata": {},
   "outputs": [
    {
     "name": "stderr",
     "output_type": "stream",
     "text": [
      "DEBUG:root:set initial value of signal DEM_CRC to 255 with type <class 'int'>\n",
      "DEBUG:root:set initial value of signal DEM_SNC to 1 with type <class 'int'>\n",
      "DEBUG:root:set initial value of signal operation_mode to 0 with type <class 'int'>\n",
      "DEBUG:root:set initial value of signal li_set to 1 with type <class 'int'>\n",
      "DEBUG:root:set initial value of signal hv_set to 221 with type <class 'int'>\n",
      "DEBUG:root:set initial value of signal lv_set to 13.0 with type <class 'float'>\n",
      "DEBUG:root:Update CAN message: DEM\n",
      "DEBUG:root:Update CAN Data: {'DEM_CRC': 255, 'DEM_SNC': 1, 'operation_mode': 0, 'li_set': 1, 'hv_set': 221, 'lv_set': 13.0}\n",
      "DEBUG:root:set periodic publisher for message DEM\n"
     ]
    }
   ],
   "source": [
    "vcu.DEM.start_periodic()"
   ]
  },
  {
   "cell_type": "code",
   "execution_count": 29,
   "id": "9313eea9",
   "metadata": {},
   "outputs": [
    {
     "name": "stderr",
     "output_type": "stream",
     "text": [
      "DEBUG:root:Update CAN message: DEM\n",
      "DEBUG:root:Update CAN Data: {'DEM_CRC': 83, 'DEM_SNC': 1, 'operation_mode': 0, 'li_set': 1, 'hv_set': 221, 'lv_set': 13.0}\n"
     ]
    }
   ],
   "source": [
    "vcu.DEM._signal_operation_mode.notify(0)"
   ]
  },
  {
   "cell_type": "code",
   "execution_count": 15,
   "id": "3d26f282",
   "metadata": {},
   "outputs": [
    {
     "data": {
      "application/vnd.jupyter.widget-view+json": {
       "model_id": "a9f55228858a44f49522fcfa2abcf32b",
       "version_major": 2,
       "version_minor": 0
      },
      "text/plain": [
       "Label(value='value=?')"
      ]
     },
     "metadata": {},
     "output_type": "display_data"
    }
   ],
   "source": [
    "display(label_value)"
   ]
  },
  {
   "cell_type": "code",
   "execution_count": null,
   "id": "ac5f088b",
   "metadata": {},
   "outputs": [
    {
     "data": {
      "application/vnd.jupyter.widget-view+json": {
       "model_id": "cb0b3437abe2489880ebb5a6a0bd3c9e",
       "version_major": 2,
       "version_minor": 0
      },
      "text/plain": [
       "Button(description='Start', style=ButtonStyle())"
      ]
     },
     "metadata": {},
     "output_type": "display_data"
    },
    {
     "name": "stderr",
     "output_type": "stream",
     "text": [
      "DEBUG:Comm:handle_msg[cb0b3437abe2489880ebb5a6a0bd3c9e]({'header': {'date': datetime.datetime(2023, 10, 20, 5, 39, 12, 382000, tzinfo=tzutc()), 'msg_id': 'f0d8279d-2ca5-4f72-bf25-6ec0e70cd8df', 'msg_type': 'comm_msg', 'session': 'abea3f37-3207-44a1-a4ba-c4afc941a4c0', 'username': '4e04c272-95e2-44c3-8dfe-ed82e1f3b736', 'version': '5.2'}, 'msg_id': 'f0d8279d-2ca5-4f72-bf25-6ec0e70cd8df', 'msg_type': 'comm_msg', 'parent_header': {}, 'metadata': {}, 'content': {'comm_id': 'cb0b3437abe2489880ebb5a6a0bd3c9e', 'data': {'method': 'custom', 'content': {'event': 'click'}}}, 'buffers': []})\n"
     ]
    },
    {
     "ename": "RuntimeError",
     "evalue": "asyncio.run() cannot be called from a running event loop",
     "output_type": "error",
     "traceback": [
      "\u001b[1;31m---------------------------------------------------------------------------\u001b[0m",
      "\u001b[1;31mRuntimeError\u001b[0m                              Traceback (most recent call last)",
      "\u001b[1;32mc:\\Work\\Github\\python-canbro\\examples\\poc\\poc_ipyflow_e2e.ipynb Cell 15\u001b[0m line \u001b[0;36m1\n\u001b[0;32m     <a href='vscode-notebook-cell:/c%3A/Work/Github/python-canbro/examples/poc/poc_ipyflow_e2e.ipynb#X20sZmlsZQ%3D%3D?line=9'>10</a>\u001b[0m \u001b[39mdef\u001b[39;00m \u001b[39mrun_task\u001b[39m(button):\n\u001b[1;32m---> <a href='vscode-notebook-cell:/c%3A/Work/Github/python-canbro/examples/poc/poc_ipyflow_e2e.ipynb#X20sZmlsZQ%3D%3D?line=10'>11</a>\u001b[0m     asyncio\u001b[39m.\u001b[39;49mrun(update_ecu_value())\n",
      "File \u001b[1;32mc:\\Users\\lukas.riegler\\AppData\\Local\\Programs\\Python\\Python312\\Lib\\asyncio\\runners.py:190\u001b[0m, in \u001b[0;36mrun\u001b[1;34m(main, debug, loop_factory)\u001b[0m\n\u001b[0;32m    161\u001b[0m \u001b[39m\u001b[39m\u001b[39m\"\"\"Execute the coroutine and return the result.\u001b[39;00m\n\u001b[0;32m    162\u001b[0m \n\u001b[0;32m    163\u001b[0m \u001b[39mThis function runs the passed coroutine, taking care of\u001b[39;00m\n\u001b[1;32m   (...)\u001b[0m\n\u001b[0;32m    186\u001b[0m \u001b[39m    asyncio.run(main())\u001b[39;00m\n\u001b[0;32m    187\u001b[0m \u001b[39m\"\"\"\u001b[39;00m\n\u001b[0;32m    188\u001b[0m \u001b[39mif\u001b[39;00m events\u001b[39m.\u001b[39m_get_running_loop() \u001b[39mis\u001b[39;00m \u001b[39mnot\u001b[39;00m \u001b[39mNone\u001b[39;00m:\n\u001b[0;32m    189\u001b[0m     \u001b[39m# fail fast with short traceback\u001b[39;00m\n\u001b[1;32m--> 190\u001b[0m     \u001b[39mraise\u001b[39;00m \u001b[39mRuntimeError\u001b[39;00m(\n\u001b[0;32m    191\u001b[0m         \u001b[39m\"\u001b[39m\u001b[39masyncio.run() cannot be called from a running event loop\u001b[39m\u001b[39m\"\u001b[39m)\n\u001b[0;32m    193\u001b[0m \u001b[39mwith\u001b[39;00m Runner(debug\u001b[39m=\u001b[39mdebug, loop_factory\u001b[39m=\u001b[39mloop_factory) \u001b[39mas\u001b[39;00m runner:\n\u001b[0;32m    194\u001b[0m     \u001b[39mreturn\u001b[39;00m runner\u001b[39m.\u001b[39mrun(main)\n",
      "\u001b[1;31mRuntimeError\u001b[0m: asyncio.run() cannot be called from a running event loop"
     ]
    }
   ],
   "source": [
    "\n",
    "import asyncio\n",
    "import ipywidgets as widgets\n",
    "\n",
    "async def update_ecu_value():\n",
    "    for i in range(6):\n",
    "        vcu.DEM._signal_operation_mode.notify(i)\n",
    "        print(f'show Count: {i}')\n",
    "        await asyncio.sleep(1)\n",
    "\n",
    "def run_task(button):\n",
    "    asyncio.run(update_ecu_value())\n",
    "\n",
    "button = widgets.Button(description='Start')\n",
    "button.on_click(run_task)\n",
    "\n",
    "display(button)"
   ]
  },
  {
   "cell_type": "code",
   "execution_count": null,
   "id": "27769c02",
   "metadata": {},
   "outputs": [],
   "source": [
    "#ecu.Message2.stop_periodic()"
   ]
  },
  {
   "cell_type": "code",
   "execution_count": null,
   "id": "6145b3fd",
   "metadata": {},
   "outputs": [],
   "source": [
    "#logging.basicConfig(level=logging.ERROR)"
   ]
  }
 ],
 "metadata": {
  "ipyflow": {
   "cell_children": {
    "009f37f9-342d-4ea0-a45b-6072f4c02671": [],
    "0150678a-ad32-4d4a-8e1b-b49811d0c7c6": [],
    "0c776e80-7c15-4899-94ec-7b9e4383995d": [],
    "15ff42c9-740a-4ba3-829d-2c839969b884": [],
    "1729d440-8793-4e9a-ba57-7c8e6b39c062": [
     "0c776e80-7c15-4899-94ec-7b9e4383995d",
     "d27da040-bc2b-4c79-b2d7-f3e141cbc412",
     "db80f848-d3d3-4e34-9559-922ba7826f96"
    ],
    "175bb759-5dbb-44f8-8a49-bbc1c1f3d9ab": [
     "8fe49b1d-b26f-4178-b356-e23fda7f5561"
    ],
    "2aedebb9-f1a6-4d20-b968-a8c06ebad696": [],
    "2b65fdb5-24e2-4d93-8bf9-c267e699a206": [],
    "2fd68bfb-bcb3-4cb1-ba4f-f85d9252d739": [],
    "36c8d914-9c32-4364-ae55-09753dc2a097": [],
    "38220955-3c88-4b49-a240-36be0bb0cbb9": [],
    "3e24a9bc-3f26-4aca-9802-38868326daf3": [],
    "4622e52d-a6cc-470e-8efe-091994b1012d": [],
    "4811ef56-0402-4bee-bab1-326285f4c441": [
     "c2372e60-48f9-4f4d-8981-cffb257311cf",
     "8c87fdc5-ae05-48ee-8e00-ecef656b527a"
    ],
    "5be0e22d-561a-4427-88ce-100ecfcd352c": [],
    "65d3cc5d-3202-4aae-b698-eed1d1c6607c": [],
    "781b5f7b-4136-49d8-bbe8-bbcdf86cbe52": [
     "bcc1cdb6-7239-48bc-a3e2-43ced13b3606",
     "5be0e22d-561a-4427-88ce-100ecfcd352c",
     "eaeb709c-1018-4780-b788-68dfbf11c83c"
    ],
    "83ded27c-d94a-4893-8be5-e6861ebb4c50": [
     "781b5f7b-4136-49d8-bbe8-bbcdf86cbe52",
     "e4d1a84b-0e86-4614-a0b3-155bebeefb81",
     "c9312c9a-0729-4e53-b303-0e7cfd976d44"
    ],
    "8c87fdc5-ae05-48ee-8e00-ecef656b527a": [
     "bcc1cdb6-7239-48bc-a3e2-43ced13b3606",
     "4622e52d-a6cc-470e-8efe-091994b1012d",
     "e4d1a84b-0e86-4614-a0b3-155bebeefb81",
     "eaeb709c-1018-4780-b788-68dfbf11c83c",
     "c9312c9a-0729-4e53-b303-0e7cfd976d44",
     "5be0e22d-561a-4427-88ce-100ecfcd352c",
     "83ded27c-d94a-4893-8be5-e6861ebb4c50",
     "781b5f7b-4136-49d8-bbe8-bbcdf86cbe52"
    ],
    "8fe49b1d-b26f-4178-b356-e23fda7f5561": [],
    "bcc1cdb6-7239-48bc-a3e2-43ced13b3606": [],
    "bd34777a-a7ab-47b9-ac8b-51cfe346f90c": [
     "38220955-3c88-4b49-a240-36be0bb0cbb9",
     "4622e52d-a6cc-470e-8efe-091994b1012d"
    ],
    "c2372e60-48f9-4f4d-8981-cffb257311cf": [
     "8c87fdc5-ae05-48ee-8e00-ecef656b527a"
    ],
    "c6742106-8f39-4040-9c14-e96934f5c8c1": [
     "8c87fdc5-ae05-48ee-8e00-ecef656b527a"
    ],
    "c9312c9a-0729-4e53-b303-0e7cfd976d44": [],
    "d27da040-bc2b-4c79-b2d7-f3e141cbc412": [],
    "db80f848-d3d3-4e34-9559-922ba7826f96": [],
    "e4d1a84b-0e86-4614-a0b3-155bebeefb81": [],
    "eaeb709c-1018-4780-b788-68dfbf11c83c": [],
    "f6e68e4a-6bf2-475c-8028-04a0aa4d874f": []
   },
   "cell_parents": {
    "009f37f9-342d-4ea0-a45b-6072f4c02671": [],
    "0150678a-ad32-4d4a-8e1b-b49811d0c7c6": [],
    "0c776e80-7c15-4899-94ec-7b9e4383995d": [],
    "15ff42c9-740a-4ba3-829d-2c839969b884": [],
    "1729d440-8793-4e9a-ba57-7c8e6b39c062": [],
    "175bb759-5dbb-44f8-8a49-bbc1c1f3d9ab": [],
    "2aedebb9-f1a6-4d20-b968-a8c06ebad696": [],
    "2b65fdb5-24e2-4d93-8bf9-c267e699a206": [],
    "2fd68bfb-bcb3-4cb1-ba4f-f85d9252d739": [],
    "36c8d914-9c32-4364-ae55-09753dc2a097": [
     "2aedebb9-f1a6-4d20-b968-a8c06ebad696"
    ],
    "38220955-3c88-4b49-a240-36be0bb0cbb9": [
     "bd34777a-a7ab-47b9-ac8b-51cfe346f90c"
    ],
    "3e24a9bc-3f26-4aca-9802-38868326daf3": [],
    "4622e52d-a6cc-470e-8efe-091994b1012d": [
     "bd34777a-a7ab-47b9-ac8b-51cfe346f90c",
     "8c87fdc5-ae05-48ee-8e00-ecef656b527a"
    ],
    "4811ef56-0402-4bee-bab1-326285f4c441": [],
    "5be0e22d-561a-4427-88ce-100ecfcd352c": [
     "781b5f7b-4136-49d8-bbe8-bbcdf86cbe52",
     "8c87fdc5-ae05-48ee-8e00-ecef656b527a"
    ],
    "65d3cc5d-3202-4aae-b698-eed1d1c6607c": [],
    "781b5f7b-4136-49d8-bbe8-bbcdf86cbe52": [
     "83ded27c-d94a-4893-8be5-e6861ebb4c50",
     "8c87fdc5-ae05-48ee-8e00-ecef656b527a"
    ],
    "83ded27c-d94a-4893-8be5-e6861ebb4c50": [
     "8c87fdc5-ae05-48ee-8e00-ecef656b527a"
    ],
    "8c87fdc5-ae05-48ee-8e00-ecef656b527a": [
     "c6742106-8f39-4040-9c14-e96934f5c8c1",
     "c2372e60-48f9-4f4d-8981-cffb257311cf",
     "4811ef56-0402-4bee-bab1-326285f4c441"
    ],
    "8fe49b1d-b26f-4178-b356-e23fda7f5561": [
     "175bb759-5dbb-44f8-8a49-bbc1c1f3d9ab"
    ],
    "bcc1cdb6-7239-48bc-a3e2-43ced13b3606": [
     "781b5f7b-4136-49d8-bbe8-bbcdf86cbe52",
     "8c87fdc5-ae05-48ee-8e00-ecef656b527a"
    ],
    "bd34777a-a7ab-47b9-ac8b-51cfe346f90c": [],
    "c2372e60-48f9-4f4d-8981-cffb257311cf": [
     "4811ef56-0402-4bee-bab1-326285f4c441"
    ],
    "c6742106-8f39-4040-9c14-e96934f5c8c1": [],
    "c9312c9a-0729-4e53-b303-0e7cfd976d44": [
     "83ded27c-d94a-4893-8be5-e6861ebb4c50",
     "8c87fdc5-ae05-48ee-8e00-ecef656b527a"
    ],
    "d27da040-bc2b-4c79-b2d7-f3e141cbc412": [],
    "db80f848-d3d3-4e34-9559-922ba7826f96": [],
    "e4d1a84b-0e86-4614-a0b3-155bebeefb81": [
     "83ded27c-d94a-4893-8be5-e6861ebb4c50",
     "8c87fdc5-ae05-48ee-8e00-ecef656b527a"
    ],
    "eaeb709c-1018-4780-b788-68dfbf11c83c": [
     "781b5f7b-4136-49d8-bbe8-bbcdf86cbe52",
     "8c87fdc5-ae05-48ee-8e00-ecef656b527a"
    ],
    "f6e68e4a-6bf2-475c-8028-04a0aa4d874f": []
   }
  },
  "kernelspec": {
   "display_name": "Python 3",
   "language": "python",
   "name": "python3"
  },
  "language_info": {
   "codemirror_mode": {
    "name": "ipython",
    "version": 3
   },
   "file_extension": ".py",
   "mimetype": "text/x-python",
   "name": "python",
   "nbconvert_exporter": "python",
   "pygments_lexer": "ipython3",
   "version": "3.12.0"
  }
 },
 "nbformat": 4,
 "nbformat_minor": 5
}
