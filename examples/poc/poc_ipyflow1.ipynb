{
 "cells": [
  {
   "cell_type": "code",
   "execution_count": 1,
   "id": "4811ef56-0402-4bee-bab1-326285f4c441",
   "metadata": {},
   "outputs": [],
   "source": [
    "from can.interface import Bus\n",
    "from cantools.database import load_file"
   ]
  },
  {
   "cell_type": "code",
   "execution_count": 2,
   "id": "2aedebb9-f1a6-4d20-b968-a8c06ebad696",
   "metadata": {},
   "outputs": [
    {
     "name": "stdout",
     "output_type": "stream",
     "text": [
      "['c:\\\\Work\\\\Github\\\\python-canbro\\\\examples\\\\poc', 'c:\\\\Users\\\\lukas.riegler\\\\AppData\\\\Local\\\\Programs\\\\Python\\\\Python312\\\\python312.zip', 'c:\\\\Users\\\\lukas.riegler\\\\AppData\\\\Local\\\\Programs\\\\Python\\\\Python312\\\\DLLs', 'c:\\\\Users\\\\lukas.riegler\\\\AppData\\\\Local\\\\Programs\\\\Python\\\\Python312\\\\Lib', 'c:\\\\Users\\\\lukas.riegler\\\\AppData\\\\Local\\\\Programs\\\\Python\\\\Python312', '', 'c:\\\\Users\\\\lukas.riegler\\\\AppData\\\\Local\\\\Programs\\\\Python\\\\Python312\\\\Lib\\\\site-packages', 'c:\\\\Users\\\\lukas.riegler\\\\AppData\\\\Local\\\\Programs\\\\Python\\\\Python312\\\\Lib\\\\site-packages\\\\win32', 'c:\\\\Users\\\\lukas.riegler\\\\AppData\\\\Local\\\\Programs\\\\Python\\\\Python312\\\\Lib\\\\site-packages\\\\win32\\\\lib', 'c:\\\\Users\\\\lukas.riegler\\\\AppData\\\\Local\\\\Programs\\\\Python\\\\Python312\\\\Lib\\\\site-packages\\\\Pythonwin', 'c:\\\\Work\\\\Github\\\\python-canbro\\\\examples\\\\poc', 'c:\\\\Work\\\\Github\\\\python-canbro\\\\examples\\\\poc\\\\..\\\\..']\n"
     ]
    }
   ],
   "source": [
    "import sys\n",
    "import os\n",
    "sys.path.append(os.getcwd())\n",
    "sys.path.append(os.getcwd() + '\\\\..\\\\..')\n",
    "print(sys.path)\n",
    "import logging\n",
    "logging.basicConfig(level=logging.DEBUG)"
   ]
  },
  {
   "cell_type": "code",
   "execution_count": 3,
   "id": "c6742106-8f39-4040-9c14-e96934f5c8c1",
   "metadata": {},
   "outputs": [],
   "source": [
    "from canbro import Node"
   ]
  },
  {
   "cell_type": "code",
   "execution_count": 5,
   "id": "c2372e60-48f9-4f4d-8981-cffb257311cf",
   "metadata": {},
   "outputs": [],
   "source": [
    "db = load_file('..\\\\J1939.dbc')"
   ]
  },
  {
   "cell_type": "code",
   "execution_count": 6,
   "id": "8c87fdc5-ae05-48ee-8e00-ecef656b527a",
   "metadata": {},
   "outputs": [
    {
     "name": "stderr",
     "output_type": "stream",
     "text": [
      "DEBUG:can:can config: {'interface': 'virtual', 'channel': 'test'}\n",
      "DEBUG:root:Create signal values for <canbro.node.Node object at 0x0000020605FAE8A0>\n",
      "DEBUG:root:Create receiver message Message1\n",
      "DEBUG:root:Create sender message Message2\n",
      "DEBUG:root:set initial value of signal Signal2 to 10 with type <class 'int'>\n",
      "DEBUG:root:Update CAN message: Message2\n",
      "DEBUG:root:Update CAN Data: {'Signal2': 10}\n"
     ]
    }
   ],
   "source": [
    "ecu = Node(name=db._nodes[0].name,bus=Bus('test', interface='virtual'),database=db )"
   ]
  },
  {
   "cell_type": "code",
   "execution_count": 7,
   "id": "83ded27c-d94a-4893-8be5-e6861ebb4c50",
   "metadata": {},
   "outputs": [
    {
     "name": "stderr",
     "output_type": "stream",
     "text": [
      "DEBUG:root:Update CAN message: Message2\n",
      "DEBUG:root:Update CAN Data: {'Signal2': 10}\n"
     ]
    }
   ],
   "source": [
    "ecu.Message2._signal_Signal2.notify(10)"
   ]
  },
  {
   "cell_type": "code",
   "execution_count": 11,
   "id": "e4d1a84b-0e86-4614-a0b3-155bebeefb81",
   "metadata": {},
   "outputs": [
    {
     "data": {
      "text/plain": [
       "10"
      ]
     },
     "execution_count": 11,
     "metadata": {},
     "output_type": "execute_result"
    }
   ],
   "source": [
    "ecu.Message2.Signal2.fget()"
   ]
  },
  {
   "cell_type": "code",
   "execution_count": 12,
   "id": "781b5f7b-4136-49d8-bbe8-bbcdf86cbe52",
   "metadata": {},
   "outputs": [
    {
     "name": "stderr",
     "output_type": "stream",
     "text": [
      "DEBUG:root:is a resiver signal and can not be set! value=2\n"
     ]
    }
   ],
   "source": [
    "ecu.Message1._set_Signal1(2)"
   ]
  },
  {
   "cell_type": "code",
   "execution_count": 13,
   "id": "c9312c9a-0729-4e53-b303-0e7cfd976d44",
   "metadata": {},
   "outputs": [
    {
     "name": "stderr",
     "output_type": "stream",
     "text": [
      "DEBUG:root:Update CAN message: Message2\n",
      "DEBUG:root:Update CAN Data: {'Signal2': 1}\n"
     ]
    }
   ],
   "source": [
    "ecu.Message2._set_Signal2(1)"
   ]
  },
  {
   "cell_type": "code",
   "execution_count": 14,
   "id": "eaeb709c-1018-4780-b788-68dfbf11c83c",
   "metadata": {},
   "outputs": [
    {
     "data": {
      "text/plain": [
       "broqer.types.NONE"
      ]
     },
     "execution_count": 14,
     "metadata": {},
     "output_type": "execute_result"
    }
   ],
   "source": [
    "ecu.Message1._get_Signal1()"
   ]
  },
  {
   "cell_type": "code",
   "execution_count": null,
   "id": "bcc1cdb6-7239-48bc-a3e2-43ced13b3606",
   "metadata": {},
   "outputs": [],
   "source": [
    "ecu.Message1.Signal1"
   ]
  },
  {
   "cell_type": "code",
   "execution_count": null,
   "id": "5be0e22d-561a-4427-88ce-100ecfcd352c",
   "metadata": {},
   "outputs": [],
   "source": [
    "dir(ecu.Message1.Signal1)"
   ]
  },
  {
   "cell_type": "code",
   "execution_count": 56,
   "id": "175bb759-5dbb-44f8-8a49-bbc1c1f3d9ab",
   "metadata": {},
   "outputs": [
    {
     "name": "stdout",
     "output_type": "stream",
     "text": [
      "2\n"
     ]
    }
   ],
   "source": [
    "class Foo(object):\n",
    "    def __init__(self):\n",
    "        print(\"1\")\n",
    "        type(self).bar2 = property(self.get_bar)\n",
    "        print(type(self))\n",
    "    def __new__(cls):\n",
    "        print(\"0\")\n",
    "        cls.bar2 = property(cls.get_bar)\n",
    "        return super(Foo, cls).__new__(cls)\n",
    "    def get_bar(self):\n",
    "       return \"bar\"\n",
    "    print(\"2\")\n",
    "    bar = property(get_bar)"
   ]
  },
  {
   "cell_type": "code",
   "execution_count": 57,
   "id": "8fe49b1d-b26f-4178-b356-e23fda7f5561",
   "metadata": {},
   "outputs": [
    {
     "name": "stdout",
     "output_type": "stream",
     "text": [
      "0\n",
      "1\n",
      "<class '__main__.Foo'>\n"
     ]
    }
   ],
   "source": [
    "a = Foo()"
   ]
  },
  {
   "cell_type": "code",
   "execution_count": 58,
   "id": "0e1a5149",
   "metadata": {},
   "outputs": [
    {
     "data": {
      "text/plain": [
       "'bar'"
      ]
     },
     "execution_count": 58,
     "metadata": {},
     "output_type": "execute_result"
    }
   ],
   "source": [
    "a.bar"
   ]
  },
  {
   "cell_type": "code",
   "execution_count": 60,
   "id": "b8950f20",
   "metadata": {},
   "outputs": [
    {
     "ename": "TypeError",
     "evalue": "Foo.get_bar() takes 1 positional argument but 2 were given",
     "output_type": "error",
     "traceback": [
      "\u001b[1;31m---------------------------------------------------------------------------\u001b[0m",
      "\u001b[1;31mTypeError\u001b[0m                                 Traceback (most recent call last)",
      "\u001b[1;32mc:\\Work\\Github\\python-canbro\\examples\\poc\\poc_ipyflow1.ipynb Cell 16\u001b[0m line \u001b[0;36m1\n\u001b[1;32m----> <a href='vscode-notebook-cell:/c%3A/Work/Github/python-canbro/examples/poc/poc_ipyflow1.ipynb#X25sZmlsZQ%3D%3D?line=0'>1</a>\u001b[0m a\u001b[39m.\u001b[39;49mbar2()\n",
      "\u001b[1;31mTypeError\u001b[0m: Foo.get_bar() takes 1 positional argument but 2 were given"
     ]
    }
   ],
   "source": [
    "a.bar2()"
   ]
  },
  {
   "cell_type": "code",
   "execution_count": 62,
   "id": "cf2dc1ec",
   "metadata": {},
   "outputs": [],
   "source": [
    "class MetaX(type):\n",
    "    def __new__(cls, name, bases, dct):\n",
    "        print(\"0\")\n",
    "        for k in dct[\"keys\"]:\n",
    "            fget = lambda self, k=k: self.header.get(k, \"\")\n",
    "            fset = lambda self, value, k=k: self.header.__setitem__(k, value)\n",
    "            prop = property(fget, fset)\n",
    "            dct[k] = prop\n",
    "        obj = super(MetaX, cls).__new__(cls, name, bases, dct)\n",
    "        return obj\n",
    "\n",
    "class X(object):\n",
    "    __metaclass__ = MetaX\n",
    "    keys = \"mykey1\", \"mykey2\", \"mykey3\"\n",
    "\n",
    "    def __init__(self):\n",
    "        self.header = {\"mykey1\": 123}\n",
    "\n",
    "\n",
    "x = X()"
   ]
  },
  {
   "cell_type": "code",
   "execution_count": 64,
   "id": "6c48d58b",
   "metadata": {},
   "outputs": [
    {
     "ename": "TypeError",
     "evalue": "MetaX.__new__() missing 3 required positional arguments: 'name', 'bases', and 'dct'",
     "output_type": "error",
     "traceback": [
      "\u001b[1;31m---------------------------------------------------------------------------\u001b[0m",
      "\u001b[1;31mTypeError\u001b[0m                                 Traceback (most recent call last)",
      "\u001b[1;32mc:\\Work\\Github\\python-canbro\\examples\\poc\\poc_ipyflow1.ipynb Cell 18\u001b[0m line \u001b[0;36m1\n\u001b[1;32m----> <a href='vscode-notebook-cell:/c%3A/Work/Github/python-canbro/examples/poc/poc_ipyflow1.ipynb#X30sZmlsZQ%3D%3D?line=0'>1</a>\u001b[0m MetaX()\n",
      "\u001b[1;31mTypeError\u001b[0m: MetaX.__new__() missing 3 required positional arguments: 'name', 'bases', and 'dct'"
     ]
    }
   ],
   "source": [
    "MetaX()"
   ]
  },
  {
   "cell_type": "code",
   "execution_count": null,
   "id": "f4e84b9d",
   "metadata": {},
   "outputs": [],
   "source": []
  }
 ],
 "metadata": {
  "ipyflow": {
   "cell_children": {
    "009f37f9-342d-4ea0-a45b-6072f4c02671": [],
    "0150678a-ad32-4d4a-8e1b-b49811d0c7c6": [],
    "0c776e80-7c15-4899-94ec-7b9e4383995d": [],
    "15ff42c9-740a-4ba3-829d-2c839969b884": [],
    "1729d440-8793-4e9a-ba57-7c8e6b39c062": [
     "0c776e80-7c15-4899-94ec-7b9e4383995d",
     "d27da040-bc2b-4c79-b2d7-f3e141cbc412",
     "db80f848-d3d3-4e34-9559-922ba7826f96"
    ],
    "175bb759-5dbb-44f8-8a49-bbc1c1f3d9ab": [
     "8fe49b1d-b26f-4178-b356-e23fda7f5561"
    ],
    "2aedebb9-f1a6-4d20-b968-a8c06ebad696": [],
    "2b65fdb5-24e2-4d93-8bf9-c267e699a206": [],
    "2fd68bfb-bcb3-4cb1-ba4f-f85d9252d739": [],
    "36c8d914-9c32-4364-ae55-09753dc2a097": [],
    "38220955-3c88-4b49-a240-36be0bb0cbb9": [],
    "3e24a9bc-3f26-4aca-9802-38868326daf3": [],
    "4622e52d-a6cc-470e-8efe-091994b1012d": [],
    "4811ef56-0402-4bee-bab1-326285f4c441": [
     "c2372e60-48f9-4f4d-8981-cffb257311cf",
     "8c87fdc5-ae05-48ee-8e00-ecef656b527a"
    ],
    "5be0e22d-561a-4427-88ce-100ecfcd352c": [],
    "65d3cc5d-3202-4aae-b698-eed1d1c6607c": [],
    "781b5f7b-4136-49d8-bbe8-bbcdf86cbe52": [
     "bcc1cdb6-7239-48bc-a3e2-43ced13b3606",
     "5be0e22d-561a-4427-88ce-100ecfcd352c",
     "eaeb709c-1018-4780-b788-68dfbf11c83c"
    ],
    "83ded27c-d94a-4893-8be5-e6861ebb4c50": [
     "781b5f7b-4136-49d8-bbe8-bbcdf86cbe52",
     "e4d1a84b-0e86-4614-a0b3-155bebeefb81",
     "c9312c9a-0729-4e53-b303-0e7cfd976d44"
    ],
    "8c87fdc5-ae05-48ee-8e00-ecef656b527a": [
     "bcc1cdb6-7239-48bc-a3e2-43ced13b3606",
     "4622e52d-a6cc-470e-8efe-091994b1012d",
     "e4d1a84b-0e86-4614-a0b3-155bebeefb81",
     "eaeb709c-1018-4780-b788-68dfbf11c83c",
     "c9312c9a-0729-4e53-b303-0e7cfd976d44",
     "5be0e22d-561a-4427-88ce-100ecfcd352c",
     "83ded27c-d94a-4893-8be5-e6861ebb4c50",
     "781b5f7b-4136-49d8-bbe8-bbcdf86cbe52"
    ],
    "8fe49b1d-b26f-4178-b356-e23fda7f5561": [],
    "bcc1cdb6-7239-48bc-a3e2-43ced13b3606": [],
    "bd34777a-a7ab-47b9-ac8b-51cfe346f90c": [
     "38220955-3c88-4b49-a240-36be0bb0cbb9",
     "4622e52d-a6cc-470e-8efe-091994b1012d"
    ],
    "c2372e60-48f9-4f4d-8981-cffb257311cf": [
     "8c87fdc5-ae05-48ee-8e00-ecef656b527a"
    ],
    "c6742106-8f39-4040-9c14-e96934f5c8c1": [
     "8c87fdc5-ae05-48ee-8e00-ecef656b527a"
    ],
    "c9312c9a-0729-4e53-b303-0e7cfd976d44": [],
    "d27da040-bc2b-4c79-b2d7-f3e141cbc412": [],
    "db80f848-d3d3-4e34-9559-922ba7826f96": [],
    "e4d1a84b-0e86-4614-a0b3-155bebeefb81": [],
    "eaeb709c-1018-4780-b788-68dfbf11c83c": [],
    "f6e68e4a-6bf2-475c-8028-04a0aa4d874f": []
   },
   "cell_parents": {
    "009f37f9-342d-4ea0-a45b-6072f4c02671": [],
    "0150678a-ad32-4d4a-8e1b-b49811d0c7c6": [],
    "0c776e80-7c15-4899-94ec-7b9e4383995d": [],
    "15ff42c9-740a-4ba3-829d-2c839969b884": [],
    "1729d440-8793-4e9a-ba57-7c8e6b39c062": [],
    "175bb759-5dbb-44f8-8a49-bbc1c1f3d9ab": [],
    "2aedebb9-f1a6-4d20-b968-a8c06ebad696": [],
    "2b65fdb5-24e2-4d93-8bf9-c267e699a206": [],
    "2fd68bfb-bcb3-4cb1-ba4f-f85d9252d739": [],
    "36c8d914-9c32-4364-ae55-09753dc2a097": [
     "2aedebb9-f1a6-4d20-b968-a8c06ebad696"
    ],
    "38220955-3c88-4b49-a240-36be0bb0cbb9": [
     "bd34777a-a7ab-47b9-ac8b-51cfe346f90c"
    ],
    "3e24a9bc-3f26-4aca-9802-38868326daf3": [],
    "4622e52d-a6cc-470e-8efe-091994b1012d": [
     "bd34777a-a7ab-47b9-ac8b-51cfe346f90c",
     "8c87fdc5-ae05-48ee-8e00-ecef656b527a"
    ],
    "4811ef56-0402-4bee-bab1-326285f4c441": [],
    "5be0e22d-561a-4427-88ce-100ecfcd352c": [
     "781b5f7b-4136-49d8-bbe8-bbcdf86cbe52",
     "8c87fdc5-ae05-48ee-8e00-ecef656b527a"
    ],
    "65d3cc5d-3202-4aae-b698-eed1d1c6607c": [],
    "781b5f7b-4136-49d8-bbe8-bbcdf86cbe52": [
     "83ded27c-d94a-4893-8be5-e6861ebb4c50",
     "8c87fdc5-ae05-48ee-8e00-ecef656b527a"
    ],
    "83ded27c-d94a-4893-8be5-e6861ebb4c50": [
     "8c87fdc5-ae05-48ee-8e00-ecef656b527a"
    ],
    "8c87fdc5-ae05-48ee-8e00-ecef656b527a": [
     "c6742106-8f39-4040-9c14-e96934f5c8c1",
     "c2372e60-48f9-4f4d-8981-cffb257311cf",
     "4811ef56-0402-4bee-bab1-326285f4c441"
    ],
    "8fe49b1d-b26f-4178-b356-e23fda7f5561": [
     "175bb759-5dbb-44f8-8a49-bbc1c1f3d9ab"
    ],
    "bcc1cdb6-7239-48bc-a3e2-43ced13b3606": [
     "781b5f7b-4136-49d8-bbe8-bbcdf86cbe52",
     "8c87fdc5-ae05-48ee-8e00-ecef656b527a"
    ],
    "bd34777a-a7ab-47b9-ac8b-51cfe346f90c": [],
    "c2372e60-48f9-4f4d-8981-cffb257311cf": [
     "4811ef56-0402-4bee-bab1-326285f4c441"
    ],
    "c6742106-8f39-4040-9c14-e96934f5c8c1": [],
    "c9312c9a-0729-4e53-b303-0e7cfd976d44": [
     "83ded27c-d94a-4893-8be5-e6861ebb4c50",
     "8c87fdc5-ae05-48ee-8e00-ecef656b527a"
    ],
    "d27da040-bc2b-4c79-b2d7-f3e141cbc412": [],
    "db80f848-d3d3-4e34-9559-922ba7826f96": [],
    "e4d1a84b-0e86-4614-a0b3-155bebeefb81": [
     "83ded27c-d94a-4893-8be5-e6861ebb4c50",
     "8c87fdc5-ae05-48ee-8e00-ecef656b527a"
    ],
    "eaeb709c-1018-4780-b788-68dfbf11c83c": [
     "781b5f7b-4136-49d8-bbe8-bbcdf86cbe52",
     "8c87fdc5-ae05-48ee-8e00-ecef656b527a"
    ],
    "f6e68e4a-6bf2-475c-8028-04a0aa4d874f": []
   }
  },
  "kernelspec": {
   "display_name": "Python 3",
   "language": "python",
   "name": "python3"
  },
  "language_info": {
   "codemirror_mode": {
    "name": "ipython",
    "version": 3
   },
   "file_extension": ".py",
   "mimetype": "text/x-python",
   "name": "python",
   "nbconvert_exporter": "python",
   "pygments_lexer": "ipython3",
   "version": "3.12.0"
  }
 },
 "nbformat": 4,
 "nbformat_minor": 5
}
