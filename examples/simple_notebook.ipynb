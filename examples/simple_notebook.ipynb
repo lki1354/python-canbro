{
 "cells": [
  {
   "cell_type": "code",
   "execution_count": 1,
   "metadata": {},
   "outputs": [],
   "source": [
    "from can.interface import Bus\n",
    "from cantools.database import load_file\n",
    "from broqer import Sink\n",
    "from canbro import Node\n",
    "import ipywidgets as widgets\n",
    "import logging\n",
    "logging.basicConfig(level=logging.DEBUG)"
   ]
  },
  {
   "cell_type": "code",
   "execution_count": 2,
   "metadata": {},
   "outputs": [],
   "source": [
    "# load dbc file\n",
    "db = load_file('poc/device_CAN.dbc')"
   ]
  },
  {
   "cell_type": "code",
   "execution_count": 3,
   "metadata": {},
   "outputs": [
    {
     "name": "stderr",
     "output_type": "stream",
     "text": [
      "DEBUG:can:can config: {'interface': 'virtual', 'channel': 'test'}\n",
      "DEBUG:root:Create signal values for <canbro.node.Node object at 0x7f1599d2cfe0>\n",
      "DEBUG:root:['ECU']\n",
      "DEBUG:root:Create sender message STATUS\n",
      "DEBUG:root:create message STATUS\n",
      "INFO:root:E2E check is not implemented yet for received messages\n",
      "DEBUG:root:['ECU']\n",
      "DEBUG:root:Create sender message MEASURE\n",
      "DEBUG:root:create message MEASURE\n",
      "INFO:root:E2E check is not implemented yet for received messages\n",
      "DEBUG:root:['CONTROL']\n",
      "DEBUG:root:Create receiver message DEM\n",
      "DEBUG:root:create message DEM\n",
      "INFO:root:E2E check is not implemented yet for received messages\n",
      "DEBUG:root:['CONTROL']\n",
      "DEBUG:root:Create receiver message NM_Control_MSG\n",
      "DEBUG:root:create message NM_Control_MSG\n",
      "INFO:root:E2E check is not implemented yet for received messages\n"
     ]
    }
   ],
   "source": [
    "# create ECU node with virtual bus test\n",
    "bus_e= Bus('test', interface='virtual')\n",
    "ecu = Node(name=\"ECU\",bus=bus_e,database=db )"
   ]
  },
  {
   "cell_type": "code",
   "execution_count": 4,
   "metadata": {},
   "outputs": [
    {
     "name": "stderr",
     "output_type": "stream",
     "text": [
      "DEBUG:can:can config: {'interface': 'virtual', 'channel': 'test'}\n",
      "DEBUG:root:Create signal values for <canbro.node.Node object at 0x7f15a83d0c50>\n",
      "DEBUG:root:['ECU']\n",
      "DEBUG:root:Create receiver message STATUS\n",
      "DEBUG:root:create message STATUS\n",
      "INFO:root:E2E check is not implemented yet for received messages\n",
      "DEBUG:root:['ECU']\n",
      "DEBUG:root:Create receiver message MEASURE\n",
      "DEBUG:root:create message MEASURE\n",
      "INFO:root:E2E check is not implemented yet for received messages\n",
      "DEBUG:root:['CONTROL']\n",
      "DEBUG:root:Create sender message DEM\n",
      "DEBUG:root:create message DEM\n",
      "INFO:root:E2E check is not implemented yet for received messages\n",
      "DEBUG:root:['CONTROL']\n",
      "DEBUG:root:Create sender message NM_Control_MSG\n",
      "DEBUG:root:create message NM_Control_MSG\n",
      "INFO:root:E2E check is not implemented yet for received messages\n"
     ]
    }
   ],
   "source": [
    "# create VCU node with virtual bus test, and connect to ECU via same name of bus -> test\n",
    "bus_v= Bus('test', interface='virtual')\n",
    "vcu= Node(name='CONTROL',bus=bus_v,database=db )"
   ]
  },
  {
   "cell_type": "code",
   "execution_count": 5,
   "metadata": {},
   "outputs": [
    {
     "name": "stdout",
     "output_type": "stream",
     "text": [
      "Standby\n"
     ]
    }
   ],
   "source": [
    "print(vcu.DEM._signal_operation_mode._metadata.initial)"
   ]
  },
  {
   "cell_type": "code",
   "execution_count": 6,
   "metadata": {},
   "outputs": [
    {
     "name": "stdout",
     "output_type": "stream",
     "text": [
      "255\n"
     ]
    }
   ],
   "source": [
    "print(vcu.DEM._signal_DEM_CRC._metadata.initial)"
   ]
  },
  {
   "cell_type": "code",
   "execution_count": 7,
   "metadata": {},
   "outputs": [
    {
     "name": "stderr",
     "output_type": "stream",
     "text": [
      "DEBUG:root:set initial value of signal DEM_CRC to 255 with type <class 'int'>\n",
      "DEBUG:root:set initial value of signal DEM_SNC to 1 with type <class 'int'>\n",
      "DEBUG:root:set initial value of signal operation_mode to Standby with type <class 'cantools.database.namedsignalvalue.NamedSignalValue'>\n",
      "DEBUG:root:set initial value of signal li_set to 1 with type <class 'int'>\n",
      "DEBUG:root:set initial value of signal hv_set to 221 with type <class 'int'>\n",
      "DEBUG:root:set initial value of signal lv_set to 13.0 with type <class 'float'>\n",
      "DEBUG:root:Update CAN message: DEM\n",
      "DEBUG:root:Update CAN Data: {'DEM_CRC': 255, 'DEM_SNC': 1, 'operation_mode': 'Standby', 'li_set': 1, 'hv_set': 221, 'lv_set': 13.0}\n",
      "DEBUG:root:Update CAN message: DEM\n",
      "DEBUG:root:set periodic publisher for message DEM\n",
      "DEBUG:root:Update CAN Data: {'DEM_CRC': 255, 'DEM_SNC': 1, 'operation_mode': 'Standby', 'li_set': 1, 'hv_set': 221, 'lv_set': 13.0}\n"
     ]
    },
    {
     "name": "stderr",
     "output_type": "stream",
     "text": [
      "DEBUG:root:Update CAN message: DEM\n",
      "DEBUG:root:Update CAN Data: {'DEM_CRC': 255, 'DEM_SNC': 1, 'operation_mode': 0, 'li_set': 1, 'hv_set': 221, 'lv_set': 13.0}\n",
      "DEBUG:root:Update CAN message: DEM\n",
      "DEBUG:root:Update CAN Data: {'DEM_CRC': 255, 'DEM_SNC': 1, 'operation_mode': 0, 'li_set': 1, 'hv_set': 221, 'lv_set': 13.0}\n",
      "DEBUG:root:Update CAN message: DEM\n",
      "DEBUG:root:Update CAN Data: {'DEM_CRC': 255, 'DEM_SNC': 1, 'operation_mode': 0, 'li_set': 1, 'hv_set': 221, 'lv_set': 13.0}\n",
      "DEBUG:root:Update CAN message: DEM\n",
      "DEBUG:root:Update CAN Data: {'DEM_CRC': 255, 'DEM_SNC': 1, 'operation_mode': 0, 'li_set': 1, 'hv_set': 221, 'lv_set': 13.0}\n",
      "DEBUG:root:Update CAN message: DEM\n",
      "DEBUG:root:Update CAN Data: {'DEM_CRC': 255, 'DEM_SNC': 1, 'operation_mode': 0, 'li_set': 1, 'hv_set': 221, 'lv_set': 13.0}\n",
      "DEBUG:root:Update CAN message: DEM\n",
      "DEBUG:root:Update CAN message: DEM\n",
      "DEBUG:root:Update CAN Data: {'DEM_CRC': 255, 'DEM_SNC': 1, 'operation_mode': 0, 'li_set': 1, 'hv_set': 221, 'lv_set': 13.0}\n",
      "DEBUG:root:Update CAN message: DEM\n",
      "DEBUG:root:Update CAN Data: {'DEM_CRC': 255, 'DEM_SNC': 1, 'operation_mode': 'Active Discharge', 'li_set': 1, 'hv_set': 221, 'lv_set': 13.0}\n",
      "DEBUG:root:Update CAN message: DEM\n",
      "DEBUG:root:Update CAN Data: {'DEM_CRC': 255, 'DEM_SNC': 1, 'operation_mode': 'Pre-charge', 'li_set': 1, 'hv_set': 221, 'lv_set': 13.0}\n",
      "DEBUG:root:Update CAN message: DEM\n",
      "DEBUG:root:Update CAN Data: {'DEM_CRC': 255, 'DEM_SNC': 1, 'operation_mode': 'Active Discharge', 'li_set': 1, 'hv_set': 221, 'lv_set': 13.0}\n",
      "DEBUG:root:Update CAN message: DEM\n",
      "DEBUG:root:Update CAN Data: {'DEM_CRC': 255, 'DEM_SNC': 1, 'operation_mode': 'Active Discharge', 'li_set': 1, 'hv_set': 221, 'lv_set': 13.0}\n",
      "DEBUG:root:Update CAN message: DEM\n",
      "DEBUG:root:Update CAN Data: {'DEM_CRC': 255, 'DEM_SNC': 1, 'operation_mode': 'Active Discharge', 'li_set': 1, 'hv_set': 221, 'lv_set': 13.0}\n",
      "DEBUG:root:Update CAN message: DEM\n",
      "DEBUG:root:Update CAN Data: {'DEM_CRC': 255, 'DEM_SNC': 1, 'operation_mode': 'Active Discharge', 'li_set': 1, 'hv_set': 221, 'lv_set': 13.0}\n",
      "DEBUG:root:Update CAN message: DEM\n",
      "DEBUG:root:Update CAN Data: {'DEM_CRC': 255, 'DEM_SNC': 1, 'operation_mode': 'Active Discharge', 'li_set': 1, 'hv_set': 221, 'lv_set': 13.0}\n",
      "DEBUG:root:Update CAN message: DEM\n",
      "DEBUG:root:Update CAN Data: {'DEM_CRC': 255, 'DEM_SNC': 1, 'operation_mode': 'Active Discharge', 'li_set': 1, 'hv_set': 221, 'lv_set': 13.0}\n",
      "DEBUG:root:Update CAN message: DEM\n",
      "DEBUG:root:Update CAN Data: {'DEM_CRC': 255, 'DEM_SNC': 1, 'operation_mode': 'Active Discharge', 'li_set': 1, 'hv_set': 221, 'lv_set': 13.0}\n"
     ]
    }
   ],
   "source": [
    "vcu.DEM.start_periodic()"
   ]
  },
  {
   "cell_type": "code",
   "execution_count": 9,
   "metadata": {},
   "outputs": [],
   "source": [
    "#vcu.DEM._signal_operation_mode.notify(0)"
   ]
  },
  {
   "cell_type": "code",
   "execution_count": 10,
   "metadata": {},
   "outputs": [],
   "source": [
    "label_value = widgets.HTML(value=\"value=?\")\n",
    "def show_vcu_value(value, label: widgets.Label):\n",
    "    label.value = 'operation mode for ECU node: <br> value={}'.format(value)\n",
    "\n",
    "show_print = ecu.DEM._signal_operation_mode.subscribe(Sink(show_vcu_value, label=label_value))\n"
   ]
  },
  {
   "cell_type": "code",
   "execution_count": 12,
   "metadata": {},
   "outputs": [],
   "source": [
    "list_op_mode = list(set([str(x) for x in list(reversed(vcu.DEM._signal_operation_mode._metadata.conversion.choices.values()))]))"
   ]
  },
  {
   "cell_type": "code",
   "execution_count": 13,
   "metadata": {},
   "outputs": [
    {
     "name": "stderr",
     "output_type": "stream",
     "text": [
      "DEBUG:Comm:handle_msg[22522c830c5a463ab770ca950b91310c]({'header': {'date': datetime.datetime(2024, 3, 4, 17, 5, 37, 532000, tzinfo=tzutc()), 'msg_id': '31aeb748-0832-41c6-bdd3-552d4695bc23', 'msg_type': 'comm_msg', 'session': 'ee95bb82-5f91-4ec0-b5f3-495d17d9af5c', 'username': '94b2a900-119f-4b24-a62b-dfa75b495d2a', 'version': '5.2'}, 'msg_id': '31aeb748-0832-41c6-bdd3-552d4695bc23', 'msg_type': 'comm_msg', 'parent_header': {}, 'metadata': {}, 'content': {'comm_id': '22522c830c5a463ab770ca950b91310c', 'data': {'method': 'update', 'state': {'index': 2}, 'buffer_paths': []}}, 'buffers': []})\n",
      "DEBUG:Comm:handle_msg[22522c830c5a463ab770ca950b91310c]({'header': {'date': datetime.datetime(2024, 3, 4, 17, 5, 37, 533000, tzinfo=tzutc()), 'msg_id': '6f381ffd-12a7-42a0-934f-50917573366b', 'msg_type': 'comm_msg', 'session': 'ee95bb82-5f91-4ec0-b5f3-495d17d9af5c', 'username': '94b2a900-119f-4b24-a62b-dfa75b495d2a', 'version': '5.2'}, 'msg_id': '6f381ffd-12a7-42a0-934f-50917573366b', 'msg_type': 'comm_msg', 'parent_header': {}, 'metadata': {}, 'content': {'comm_id': '22522c830c5a463ab770ca950b91310c', 'data': {'method': 'custom', 'content': {'event': 'click'}}}, 'buffers': []})\n",
      "DEBUG:Comm:handle_msg[22522c830c5a463ab770ca950b91310c]({'header': {'date': datetime.datetime(2024, 3, 4, 17, 5, 49, 179000, tzinfo=tzutc()), 'msg_id': 'd1c5276a-e417-4d79-81d7-e03fed4a6f7c', 'msg_type': 'comm_msg', 'session': 'ee95bb82-5f91-4ec0-b5f3-495d17d9af5c', 'username': '94b2a900-119f-4b24-a62b-dfa75b495d2a', 'version': '5.2'}, 'msg_id': 'd1c5276a-e417-4d79-81d7-e03fed4a6f7c', 'msg_type': 'comm_msg', 'parent_header': {}, 'metadata': {}, 'content': {'comm_id': '22522c830c5a463ab770ca950b91310c', 'data': {'method': 'update', 'state': {'index': 1}, 'buffer_paths': []}}, 'buffers': []})\n",
      "DEBUG:Comm:handle_msg[22522c830c5a463ab770ca950b91310c]({'header': {'date': datetime.datetime(2024, 3, 4, 17, 5, 49, 179000, tzinfo=tzutc()), 'msg_id': 'e84a0082-d101-4ca3-9cf4-e4e6e98c550c', 'msg_type': 'comm_msg', 'session': 'ee95bb82-5f91-4ec0-b5f3-495d17d9af5c', 'username': '94b2a900-119f-4b24-a62b-dfa75b495d2a', 'version': '5.2'}, 'msg_id': 'e84a0082-d101-4ca3-9cf4-e4e6e98c550c', 'msg_type': 'comm_msg', 'parent_header': {}, 'metadata': {}, 'content': {'comm_id': '22522c830c5a463ab770ca950b91310c', 'data': {'method': 'custom', 'content': {'event': 'click'}}}, 'buffers': []})\n",
      "DEBUG:Comm:handle_msg[22522c830c5a463ab770ca950b91310c]({'header': {'date': datetime.datetime(2024, 3, 4, 17, 5, 53, 284000, tzinfo=tzutc()), 'msg_id': '86850254-25f4-4f28-98b2-9b405aa71939', 'msg_type': 'comm_msg', 'session': 'ee95bb82-5f91-4ec0-b5f3-495d17d9af5c', 'username': '94b2a900-119f-4b24-a62b-dfa75b495d2a', 'version': '5.2'}, 'msg_id': '86850254-25f4-4f28-98b2-9b405aa71939', 'msg_type': 'comm_msg', 'parent_header': {}, 'metadata': {}, 'content': {'comm_id': '22522c830c5a463ab770ca950b91310c', 'data': {'method': 'update', 'state': {'index': 2}, 'buffer_paths': []}}, 'buffers': []})\n",
      "DEBUG:Comm:handle_msg[22522c830c5a463ab770ca950b91310c]({'header': {'date': datetime.datetime(2024, 3, 4, 17, 5, 53, 284000, tzinfo=tzutc()), 'msg_id': '2a43bd8b-fd72-4e94-98ba-69247d9b24ec', 'msg_type': 'comm_msg', 'session': 'ee95bb82-5f91-4ec0-b5f3-495d17d9af5c', 'username': '94b2a900-119f-4b24-a62b-dfa75b495d2a', 'version': '5.2'}, 'msg_id': '2a43bd8b-fd72-4e94-98ba-69247d9b24ec', 'msg_type': 'comm_msg', 'parent_header': {}, 'metadata': {}, 'content': {'comm_id': '22522c830c5a463ab770ca950b91310c', 'data': {'method': 'custom', 'content': {'event': 'click'}}}, 'buffers': []})\n"
     ]
    }
   ],
   "source": [
    "# Check if the value is in the list\n",
    "if str(vcu.DEM._signal_operation_mode._state) in list_op_mode:\n",
    "    value = str(vcu.DEM._signal_operation_mode._state)\n",
    "else:\n",
    "    value = list_op_mode[0]  # Set a default value\n",
    "\n",
    "vcu_mode = widgets.ToggleButtons(\n",
    "    options=list_op_mode,\n",
    "    description=ecu.DEM._signal_operation_mode._metadata.name + ' selection for VCU node:',\n",
    "    disabled=False,\n",
    "    button_style='', \n",
    "    tooltips=list_op_mode,\n",
    "    value=value,\n",
    ")\n",
    "# 'success', 'info', 'warning', 'danger' or ''"
   ]
  },
  {
   "cell_type": "code",
   "execution_count": 14,
   "metadata": {},
   "outputs": [],
   "source": [
    "def set_vcu_mode(value):\n",
    "    #print('set value to {}'.format(value))\n",
    "    vcu.DEM._signal_operation_mode.notify(value['new'])\n",
    "    \n",
    "vcu_mode.observe(set_vcu_mode, 'value')"
   ]
  },
  {
   "cell_type": "code",
   "execution_count": 15,
   "metadata": {},
   "outputs": [],
   "source": [
    "def val_vcu_value(value):\n",
    "    global a_op_mode\n",
    "    a_op_mode = value\n",
    "\n",
    "show_print_var = ecu.DEM._signal_operation_mode.subscribe(Sink(val_vcu_value))"
   ]
  },
  {
   "cell_type": "code",
   "execution_count": 16,
   "metadata": {},
   "outputs": [
    {
     "data": {
      "application/vnd.jupyter.widget-view+json": {
       "model_id": "22522c830c5a463ab770ca950b91310c",
       "version_major": 2,
       "version_minor": 0
      },
      "text/plain": [
       "ToggleButtons(description='operation_mode selection for VCU node:', options=('Boost', 'Pre-charge', 'Active Di…"
      ]
     },
     "metadata": {},
     "output_type": "display_data"
    },
    {
     "data": {
      "application/vnd.jupyter.widget-view+json": {
       "model_id": "d3a95047c929415a9c24ebe1940d8ac6",
       "version_major": 2,
       "version_minor": 0
      },
      "text/plain": [
       "HTML(value='operation mode for ECU node: <br> value=Standby')"
      ]
     },
     "metadata": {},
     "output_type": "display_data"
    }
   ],
   "source": [
    "display(vcu_mode)\n",
    "display(label_value)"
   ]
  },
  {
   "cell_type": "code",
   "execution_count": 17,
   "metadata": {},
   "outputs": [
    {
     "data": {
      "text/plain": [
       "'Standby'"
      ]
     },
     "execution_count": 17,
     "metadata": {},
     "output_type": "execute_result"
    }
   ],
   "source": [
    "ecu.DEM._signal_operation_mode._state"
   ]
  },
  {
   "cell_type": "code",
   "execution_count": null,
   "metadata": {},
   "outputs": [],
   "source": [
    "ecu.__dict__[\"DEM\"]"
   ]
  },
  {
   "cell_type": "code",
   "execution_count": null,
   "metadata": {},
   "outputs": [],
   "source": [
    "vcu.__dict__[\"DEM\"]"
   ]
  },
  {
   "cell_type": "code",
   "execution_count": null,
   "metadata": {},
   "outputs": [],
   "source": []
  }
 ],
 "metadata": {
  "kernelspec": {
   "display_name": "Python 3",
   "language": "python",
   "name": "python3"
  },
  "language_info": {
   "codemirror_mode": {
    "name": "ipython",
    "version": 3
   },
   "file_extension": ".py",
   "mimetype": "text/x-python",
   "name": "python",
   "nbconvert_exporter": "python",
   "pygments_lexer": "ipython3",
   "version": "3.12.0"
  }
 },
 "nbformat": 4,
 "nbformat_minor": 2
}
