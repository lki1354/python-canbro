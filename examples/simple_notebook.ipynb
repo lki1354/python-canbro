{
 "cells": [
  {
   "cell_type": "code",
   "execution_count": 1,
   "metadata": {},
   "outputs": [],
   "source": [
    "from can.interface import Bus\n",
    "from cantools.database import load_file\n",
    "from broqer import Sink\n",
    "from canbro import Node\n",
    "import ipywidgets as widgets\n",
    "import logging\n",
    "logging.basicConfig(level=logging.DEBUG)"
   ]
  },
  {
   "cell_type": "code",
   "execution_count": 2,
   "metadata": {},
   "outputs": [],
   "source": [
    "# load dbc file\n",
    "db = load_file('poc/device_CAN.dbc')"
   ]
  },
  {
   "cell_type": "code",
   "execution_count": 3,
   "metadata": {},
   "outputs": [
    {
     "ename": "TypeError",
     "evalue": "type type doesn't define __round__ method",
     "output_type": "error",
     "traceback": [
      "\u001b[0;31m---------------------------------------------------------------------------\u001b[0m",
      "\u001b[0;31mTypeError\u001b[0m                                 Traceback (most recent call last)",
      "Cell \u001b[0;32mIn[3], line 3\u001b[0m\n\u001b[1;32m      1\u001b[0m \u001b[38;5;66;03m# create ECU node with virtual bus test\u001b[39;00m\n\u001b[1;32m      2\u001b[0m bus_e\u001b[38;5;241m=\u001b[39m Bus(\u001b[38;5;124m'\u001b[39m\u001b[38;5;124mtest\u001b[39m\u001b[38;5;124m'\u001b[39m, interface\u001b[38;5;241m=\u001b[39m\u001b[38;5;124m'\u001b[39m\u001b[38;5;124mvirtual\u001b[39m\u001b[38;5;124m'\u001b[39m)\n\u001b[0;32m----> 3\u001b[0m ecu \u001b[38;5;241m=\u001b[39m \u001b[43mNode\u001b[49m\u001b[43m(\u001b[49m\u001b[43mname\u001b[49m\u001b[38;5;241;43m=\u001b[39;49m\u001b[38;5;124;43m\"\u001b[39;49m\u001b[38;5;124;43mECU\u001b[39;49m\u001b[38;5;124;43m\"\u001b[39;49m\u001b[43m,\u001b[49m\u001b[43mbus\u001b[49m\u001b[38;5;241;43m=\u001b[39;49m\u001b[43mbus_e\u001b[49m\u001b[43m,\u001b[49m\u001b[43mdatabase\u001b[49m\u001b[38;5;241;43m=\u001b[39;49m\u001b[43mdb\u001b[49m\u001b[43m \u001b[49m\u001b[43m)\u001b[49m\n",
      "File \u001b[0;32m~/workspace/github/python-canbro/venv/lib/python3.12/site-packages/canbro/node.py:15\u001b[0m, in \u001b[0;36mNode.__init__\u001b[0;34m(self, name, bus, database)\u001b[0m\n\u001b[1;32m     13\u001b[0m listener \u001b[38;5;241m=\u001b[39m NodeListener(\u001b[38;5;28mself\u001b[39m)\n\u001b[1;32m     14\u001b[0m \u001b[38;5;28mself\u001b[39m\u001b[38;5;241m.\u001b[39m_notifier \u001b[38;5;241m=\u001b[39m can\u001b[38;5;241m.\u001b[39mNotifier(\u001b[38;5;28mself\u001b[39m\u001b[38;5;241m.\u001b[39m_bus, [listener])\n\u001b[0;32m---> 15\u001b[0m \u001b[38;5;28;43mself\u001b[39;49m\u001b[38;5;241;43m.\u001b[39;49m\u001b[43m__create_signal_values\u001b[49m\u001b[43m(\u001b[49m\u001b[43mdatabase\u001b[49m\u001b[43m,\u001b[49m\u001b[43m \u001b[49m\u001b[43mname\u001b[49m\u001b[43m)\u001b[49m\n",
      "File \u001b[0;32m~/workspace/github/python-canbro/venv/lib/python3.12/site-packages/canbro/node.py:24\u001b[0m, in \u001b[0;36mNode.__create_signal_values\u001b[0;34m(self, database, node_name)\u001b[0m\n\u001b[1;32m     22\u001b[0m \u001b[38;5;28;01mif\u001b[39;00m node_name \u001b[38;5;129;01min\u001b[39;00m message\u001b[38;5;241m.\u001b[39msenders:\n\u001b[1;32m     23\u001b[0m     logging\u001b[38;5;241m.\u001b[39mdebug(\u001b[38;5;124m'\u001b[39m\u001b[38;5;124mCreate sender message \u001b[39m\u001b[38;5;132;01m%s\u001b[39;00m\u001b[38;5;124m'\u001b[39m, message\u001b[38;5;241m.\u001b[39m_name)\n\u001b[0;32m---> 24\u001b[0m     \u001b[38;5;28msetattr\u001b[39m(\u001b[38;5;28mself\u001b[39m, message\u001b[38;5;241m.\u001b[39m_name, \u001b[43mcreate_message\u001b[49m\u001b[43m(\u001b[49m\u001b[43mmessage\u001b[49m\u001b[43m,\u001b[49m\u001b[43m \u001b[49m\u001b[38;5;28;43;01mTrue\u001b[39;49;00m\u001b[43m,\u001b[49m\u001b[43m \u001b[49m\u001b[38;5;28;43mself\u001b[39;49m\u001b[38;5;241;43m.\u001b[39;49m\u001b[43m_bus\u001b[49m\u001b[43m \u001b[49m\u001b[43m)\u001b[49m )\n\u001b[1;32m     25\u001b[0m \u001b[38;5;28;01melse\u001b[39;00m:\n\u001b[1;32m     26\u001b[0m     \u001b[38;5;28;01mfor\u001b[39;00m signal \u001b[38;5;129;01min\u001b[39;00m message\u001b[38;5;241m.\u001b[39m_signals:\n",
      "File \u001b[0;32m~/workspace/github/python-canbro/venv/lib/python3.12/site-packages/canbro/message.py:295\u001b[0m, in \u001b[0;36mcreate_message\u001b[0;34m(metadata, sender, _can_bus)\u001b[0m\n\u001b[1;32m    292\u001b[0m \u001b[38;5;28;01mif\u001b[39;00m sender:\n\u001b[1;32m    293\u001b[0m     \u001b[38;5;66;03m#if metadata.cycle_time and metadata.signals[0].dbc.attributes['GenSigFuncType'].value == 2:\u001b[39;00m\n\u001b[1;32m    294\u001b[0m     \u001b[38;5;28;01mif\u001b[39;00m metadata\u001b[38;5;241m.\u001b[39mcycle_time:\n\u001b[0;32m--> 295\u001b[0m         msg_obj\u001b[38;5;241m=\u001b[39m \u001b[43mMessageTxCycle\u001b[49m\u001b[43m(\u001b[49m\u001b[43mmetadata\u001b[49m\u001b[43m,\u001b[49m\u001b[43m \u001b[49m\u001b[43m_can_bus\u001b[49m\u001b[43m)\u001b[49m\n\u001b[1;32m    296\u001b[0m     \u001b[38;5;28;01melse\u001b[39;00m:\n\u001b[1;32m    297\u001b[0m         msg_obj\u001b[38;5;241m=\u001b[39m MessageTx(metadata, _can_bus)\n",
      "File \u001b[0;32m~/workspace/github/python-canbro/venv/lib/python3.12/site-packages/canbro/message.py:165\u001b[0m, in \u001b[0;36mMessageTxCycle.__init__\u001b[0;34m(self, metadata, can_bus, msg_callback)\u001b[0m\n\u001b[1;32m    163\u001b[0m \u001b[38;5;28mself\u001b[39m\u001b[38;5;241m.\u001b[39m_periodic_task \u001b[38;5;241m=\u001b[39m \u001b[38;5;28;01mNone\u001b[39;00m\n\u001b[1;32m    164\u001b[0m \u001b[38;5;28mself\u001b[39m\u001b[38;5;241m.\u001b[39m_msg_callback \u001b[38;5;241m=\u001b[39m msg_callback\n\u001b[0;32m--> 165\u001b[0m \u001b[38;5;28;43mself\u001b[39;49m\u001b[38;5;241;43m.\u001b[39;49m\u001b[43m_update_calc_E2E\u001b[49m\u001b[43m(\u001b[49m\u001b[43m)\u001b[49m\n",
      "File \u001b[0;32m~/workspace/github/python-canbro/venv/lib/python3.12/site-packages/canbro/message.py:177\u001b[0m, in \u001b[0;36mMessageTxCycle._update_calc_E2E\u001b[0;34m(self)\u001b[0m\n\u001b[1;32m    173\u001b[0m \u001b[38;5;28;01mdef\u001b[39;00m \u001b[38;5;21m_update_calc_E2E\u001b[39m(\u001b[38;5;28mself\u001b[39m):\n\u001b[1;32m    174\u001b[0m \u001b[38;5;250m    \u001b[39m\u001b[38;5;124;03m\"\"\"\u001b[39;00m\n\u001b[1;32m    175\u001b[0m \u001b[38;5;124;03m    update message data and calculates the end-to-end (E2E) protection for the message.\u001b[39;00m\n\u001b[1;32m    176\u001b[0m \u001b[38;5;124;03m    \"\"\"\u001b[39;00m\n\u001b[0;32m--> 177\u001b[0m     \u001b[38;5;28;43mself\u001b[39;49m\u001b[38;5;241;43m.\u001b[39;49m\u001b[43m_update_message\u001b[49m\u001b[43m(\u001b[49m\u001b[43m)\u001b[49m\n\u001b[1;32m    178\u001b[0m     \u001b[38;5;28;01mif\u001b[39;00m \u001b[38;5;28mself\u001b[39m\u001b[38;5;241m.\u001b[39m_msg_callback \u001b[38;5;129;01mis\u001b[39;00m \u001b[38;5;129;01mnot\u001b[39;00m \u001b[38;5;28;01mNone\u001b[39;00m:\n\u001b[1;32m    179\u001b[0m         \u001b[38;5;28mself\u001b[39m\u001b[38;5;241m.\u001b[39m_msg_callback(\u001b[38;5;28mself\u001b[39m\u001b[38;5;241m.\u001b[39m_state)\n",
      "File \u001b[0;32m~/workspace/github/python-canbro/venv/lib/python3.12/site-packages/canbro/message.py:134\u001b[0m, in \u001b[0;36mMessageTx._update_message\u001b[0;34m(self)\u001b[0m\n\u001b[1;32m    132\u001b[0m logging\u001b[38;5;241m.\u001b[39mdebug(\u001b[38;5;124m'\u001b[39m\u001b[38;5;124mUpdate CAN Data: \u001b[39m\u001b[38;5;132;01m{}\u001b[39;00m\u001b[38;5;124m'\u001b[39m\u001b[38;5;241m.\u001b[39mformat(data) )\n\u001b[1;32m    133\u001b[0m pruned_data \u001b[38;5;241m=\u001b[39m \u001b[38;5;28mself\u001b[39m\u001b[38;5;241m.\u001b[39m_metadata\u001b[38;5;241m.\u001b[39mgather_signals(data)\n\u001b[0;32m--> 134\u001b[0m data \u001b[38;5;241m=\u001b[39m \u001b[38;5;28;43mself\u001b[39;49m\u001b[38;5;241;43m.\u001b[39;49m\u001b[43m_metadata\u001b[49m\u001b[38;5;241;43m.\u001b[39;49m\u001b[43mencode\u001b[49m\u001b[43m(\u001b[49m\u001b[43mpruned_data\u001b[49m\u001b[43m)\u001b[49m\n\u001b[1;32m    135\u001b[0m _can_message \u001b[38;5;241m=\u001b[39m can\u001b[38;5;241m.\u001b[39mMessage(arbitration_id\u001b[38;5;241m=\u001b[39marbitration_id, is_extended_id\u001b[38;5;241m=\u001b[39mextended_id, data\u001b[38;5;241m=\u001b[39mdata)\n\u001b[1;32m    136\u001b[0m \u001b[38;5;28mself\u001b[39m\u001b[38;5;241m.\u001b[39mnotify(_can_message)\n",
      "File \u001b[0;32m~/workspace/github/python-canbro/venv/lib/python3.12/site-packages/cantools/database/can/message.py:945\u001b[0m, in \u001b[0;36mMessage.encode\u001b[0;34m(self, data, scaling, padding, strict)\u001b[0m\n\u001b[1;32m    941\u001b[0m     \u001b[38;5;28;01mif\u001b[39;00m \u001b[38;5;129;01mnot\u001b[39;00m \u001b[38;5;28misinstance\u001b[39m(data, \u001b[38;5;28mdict\u001b[39m):\n\u001b[1;32m    942\u001b[0m         \u001b[38;5;28;01mraise\u001b[39;00m EncodeError(\u001b[38;5;124mf\u001b[39m\u001b[38;5;124m'\u001b[39m\u001b[38;5;124mThe payload for encoding non-container \u001b[39m\u001b[38;5;124m'\u001b[39m\n\u001b[1;32m    943\u001b[0m                           \u001b[38;5;124mf\u001b[39m\u001b[38;5;124m'\u001b[39m\u001b[38;5;124mmessages must be a signal name to \u001b[39m\u001b[38;5;124m'\u001b[39m\n\u001b[1;32m    944\u001b[0m                           \u001b[38;5;124mf\u001b[39m\u001b[38;5;124m'\u001b[39m\u001b[38;5;124msignal value dictionary\u001b[39m\u001b[38;5;124m'\u001b[39m)\n\u001b[0;32m--> 945\u001b[0m     \u001b[38;5;28;43mself\u001b[39;49m\u001b[38;5;241;43m.\u001b[39;49m\u001b[43massert_signals_encodable\u001b[49m\u001b[43m(\u001b[49m\u001b[43mdata\u001b[49m\u001b[43m,\u001b[49m\u001b[43m \u001b[49m\u001b[43mscaling\u001b[49m\u001b[38;5;241;43m=\u001b[39;49m\u001b[43mscaling\u001b[49m\u001b[43m)\u001b[49m\n\u001b[1;32m    947\u001b[0m \u001b[38;5;28;01mif\u001b[39;00m \u001b[38;5;28mself\u001b[39m\u001b[38;5;241m.\u001b[39m_codecs \u001b[38;5;129;01mis\u001b[39;00m \u001b[38;5;28;01mNone\u001b[39;00m:\n\u001b[1;32m    948\u001b[0m     \u001b[38;5;28;01mraise\u001b[39;00m \u001b[38;5;167;01mValueError\u001b[39;00m(\u001b[38;5;124m'\u001b[39m\u001b[38;5;124mCodec is not initialized.\u001b[39m\u001b[38;5;124m'\u001b[39m)\n",
      "File \u001b[0;32m~/workspace/github/python-canbro/venv/lib/python3.12/site-packages/cantools/database/can/message.py:666\u001b[0m, in \u001b[0;36mMessage.assert_signals_encodable\u001b[0;34m(self, input_data, scaling, assert_values_valid, assert_all_known)\u001b[0m\n\u001b[1;32m    662\u001b[0m     \u001b[38;5;28;01mraise\u001b[39;00m EncodeError(\u001b[38;5;124mf\u001b[39m\u001b[38;5;124m'\u001b[39m\u001b[38;5;124mThe following signals were specified but are \u001b[39m\u001b[38;5;124m'\u001b[39m\n\u001b[1;32m    663\u001b[0m                       \u001b[38;5;124mf\u001b[39m\u001b[38;5;124m'\u001b[39m\u001b[38;5;124mnot required to encode the message:\u001b[39m\u001b[38;5;124m'\u001b[39m\n\u001b[1;32m    664\u001b[0m                       \u001b[38;5;124mf\u001b[39m\u001b[38;5;124m'\u001b[39m\u001b[38;5;132;01m{\u001b[39;00m\u001b[38;5;28mset\u001b[39m(input_data)\u001b[38;5;250m \u001b[39m\u001b[38;5;241m-\u001b[39m\u001b[38;5;250m \u001b[39m\u001b[38;5;28mset\u001b[39m(used_signals)\u001b[38;5;132;01m}\u001b[39;00m\u001b[38;5;124m'\u001b[39m)\n\u001b[1;32m    665\u001b[0m \u001b[38;5;28;01mif\u001b[39;00m assert_values_valid:\n\u001b[0;32m--> 666\u001b[0m     \u001b[38;5;28;43mself\u001b[39;49m\u001b[38;5;241;43m.\u001b[39;49m\u001b[43m_assert_signal_values_valid\u001b[49m\u001b[43m(\u001b[49m\u001b[43mused_signals\u001b[49m\u001b[43m,\u001b[49m\u001b[43m \u001b[49m\u001b[43mscaling\u001b[49m\u001b[43m)\u001b[49m\n",
      "File \u001b[0;32m~/workspace/github/python-canbro/venv/lib/python3.12/site-packages/cantools/database/can/message.py:759\u001b[0m, in \u001b[0;36mMessage._assert_signal_values_valid\u001b[0;34m(self, data, scaling)\u001b[0m\n\u001b[1;32m    757\u001b[0m \u001b[38;5;28;01mif\u001b[39;00m scaling:\n\u001b[1;32m    758\u001b[0m     scaled_value \u001b[38;5;241m=\u001b[39m signal_value\n\u001b[0;32m--> 759\u001b[0m     raw_value \u001b[38;5;241m=\u001b[39m \u001b[43msignal\u001b[49m\u001b[38;5;241;43m.\u001b[39;49m\u001b[43mconversion\u001b[49m\u001b[38;5;241;43m.\u001b[39;49m\u001b[43mnumeric_scaled_to_raw\u001b[49m\u001b[43m(\u001b[49m\u001b[43mscaled_value\u001b[49m\u001b[43m)\u001b[49m\n\u001b[1;32m    760\u001b[0m \u001b[38;5;28;01melse\u001b[39;00m:\n\u001b[1;32m    761\u001b[0m     scaled_value \u001b[38;5;241m=\u001b[39m cast(\n\u001b[1;32m    762\u001b[0m         Union[\u001b[38;5;28mint\u001b[39m, \u001b[38;5;28mfloat\u001b[39m],\n\u001b[1;32m    763\u001b[0m         signal\u001b[38;5;241m.\u001b[39mconversion\u001b[38;5;241m.\u001b[39mraw_to_scaled(raw_value\u001b[38;5;241m=\u001b[39msignal_value, decode_choices\u001b[38;5;241m=\u001b[39m\u001b[38;5;28;01mFalse\u001b[39;00m)\n\u001b[1;32m    764\u001b[0m     )\n",
      "File \u001b[0;32m~/workspace/github/python-canbro/venv/lib/python3.12/site-packages/cantools/database/conversion.py:142\u001b[0m, in \u001b[0;36mIdentityConversion.numeric_scaled_to_raw\u001b[0;34m(self, scaled_value)\u001b[0m\n\u001b[1;32m    139\u001b[0m \u001b[38;5;28;01mdef\u001b[39;00m \u001b[38;5;21mnumeric_scaled_to_raw\u001b[39m(\n\u001b[1;32m    140\u001b[0m     \u001b[38;5;28mself\u001b[39m, scaled_value: Union[\u001b[38;5;28mint\u001b[39m, \u001b[38;5;28mfloat\u001b[39m]\n\u001b[1;32m    141\u001b[0m ) \u001b[38;5;241m-\u001b[39m\u001b[38;5;241m>\u001b[39m Union[\u001b[38;5;28mint\u001b[39m, \u001b[38;5;28mfloat\u001b[39m]:\n\u001b[0;32m--> 142\u001b[0m     \u001b[38;5;28;01mreturn\u001b[39;00m scaled_value \u001b[38;5;28;01mif\u001b[39;00m \u001b[38;5;28mself\u001b[39m\u001b[38;5;241m.\u001b[39mis_float \u001b[38;5;28;01melse\u001b[39;00m \u001b[38;5;28;43mround\u001b[39;49m\u001b[43m(\u001b[49m\u001b[43mscaled_value\u001b[49m\u001b[43m)\u001b[49m\n",
      "\u001b[0;31mTypeError\u001b[0m: type type doesn't define __round__ method"
     ]
    }
   ],
   "source": [
    "# create ECU node with virtual bus test\n",
    "bus_e= Bus('test', interface='virtual')\n",
    "ecu = Node(name=\"ECU\",bus=bus_e,database=db )"
   ]
  },
  {
   "cell_type": "code",
   "execution_count": null,
   "metadata": {},
   "outputs": [],
   "source": [
    "# create VCU node with virtual bus test, and connect to ECU via same name of bus -> test\n",
    "bus_v= Bus('test', interface='virtual')\n",
    "vcu= Node(name='CONTROL',bus=bus_v,database=db )"
   ]
  },
  {
   "cell_type": "code",
   "execution_count": null,
   "metadata": {},
   "outputs": [],
   "source": [
    "print(vcu.DEM._signal_operation_mode._metadata.initial)"
   ]
  },
  {
   "cell_type": "code",
   "execution_count": null,
   "metadata": {},
   "outputs": [],
   "source": [
    "print(vcu.DEM._signal_DEM_CRC._metadata.initial)"
   ]
  },
  {
   "cell_type": "code",
   "execution_count": null,
   "metadata": {},
   "outputs": [],
   "source": [
    "vcu.DEM.start_periodic()"
   ]
  },
  {
   "cell_type": "code",
   "execution_count": null,
   "metadata": {},
   "outputs": [],
   "source": [
    "vcu.DEM._signal_operation_mode.notify(0)"
   ]
  },
  {
   "cell_type": "code",
   "execution_count": null,
   "metadata": {},
   "outputs": [],
   "source": [
    "label_value = widgets.HTML(value=\"value=?\")\n",
    "def show_vcu_value(value, label: widgets.Label):\n",
    "    label.value = 'operation mode for ECU node: <br> value={}'.format(value)\n",
    "\n",
    "show_print = ecu.DEM._signal_operation_mode.subscribe(Sink(show_vcu_value, label=label_value))\n"
   ]
  },
  {
   "cell_type": "code",
   "execution_count": null,
   "metadata": {},
   "outputs": [],
   "source": [
    "list_op_mode = list(set([str(x) for x in list(reversed(vcu.DEM._signal_operation_mode._metadata.conversion.choices.values()))]))"
   ]
  },
  {
   "cell_type": "code",
   "execution_count": null,
   "metadata": {},
   "outputs": [],
   "source": [
    "# Check if the value is in the list\n",
    "if str(vcu.DEM._signal_operation_mode._state) in list_op_mode:\n",
    "    value = str(vcu.DEM._signal_operation_mode._state)\n",
    "else:\n",
    "    value = list_op_mode[0]  # Set a default value\n",
    "\n",
    "vcu_mode = widgets.ToggleButtons(\n",
    "    options=list_op_mode,\n",
    "    description=ecu.DEM._signal_operation_mode._metadata.name + ' selection for VCU node:',\n",
    "    disabled=False,\n",
    "    button_style='', \n",
    "    tooltips=list_op_mode,\n",
    "    value=value,\n",
    ")\n",
    "# 'success', 'info', 'warning', 'danger' or ''"
   ]
  },
  {
   "cell_type": "code",
   "execution_count": null,
   "metadata": {},
   "outputs": [],
   "source": [
    "def set_vcu_mode(value):\n",
    "    #print('set value to {}'.format(value))\n",
    "    vcu.DEM._signal_operation_mode.notify(value['new'])\n",
    "    \n",
    "vcu_mode.observe(set_vcu_mode, 'value')"
   ]
  },
  {
   "cell_type": "code",
   "execution_count": null,
   "metadata": {},
   "outputs": [],
   "source": [
    "def val_vcu_value(value):\n",
    "    global a_op_mode\n",
    "    a_op_mode = value\n",
    "\n",
    "show_print_var = ecu.DEM._signal_operation_mode.subscribe(Sink(val_vcu_value))"
   ]
  },
  {
   "cell_type": "code",
   "execution_count": null,
   "metadata": {},
   "outputs": [],
   "source": [
    "display(vcu_mode)\n",
    "display(label_value)"
   ]
  },
  {
   "cell_type": "code",
   "execution_count": null,
   "metadata": {},
   "outputs": [],
   "source": [
    "vcu.DEM._signal_operation_mode._state"
   ]
  },
  {
   "cell_type": "code",
   "execution_count": null,
   "metadata": {},
   "outputs": [],
   "source": []
  }
 ],
 "metadata": {
  "kernelspec": {
   "display_name": "Python 3",
   "language": "python",
   "name": "python3"
  },
  "language_info": {
   "codemirror_mode": {
    "name": "ipython",
    "version": 3
   },
   "file_extension": ".py",
   "mimetype": "text/x-python",
   "name": "python",
   "nbconvert_exporter": "python",
   "pygments_lexer": "ipython3",
   "version": "3.12.0"
  }
 },
 "nbformat": 4,
 "nbformat_minor": 2
}
