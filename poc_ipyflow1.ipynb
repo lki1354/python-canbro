{
 "cells": [
  {
   "cell_type": "code",
   "execution_count": 1,
   "id": "4811ef56-0402-4bee-bab1-326285f4c441",
   "metadata": {},
   "outputs": [],
   "source": [
    "from can.interface import Bus\n",
    "from cantools.database import load_file"
   ]
  },
  {
   "cell_type": "code",
   "execution_count": 2,
   "id": "2aedebb9-f1a6-4d20-b968-a8c06ebad696",
   "metadata": {},
   "outputs": [
    {
     "name": "stdout",
     "output_type": "stream",
     "text": [
      "['E:\\\\Workspace\\\\github\\\\python-cantools-broqer', 'C:\\\\Program Files\\\\WindowsApps\\\\PythonSoftwareFoundation.Python.3.10_3.10.3056.0_x64__qbz5n2kfra8p0\\\\python310.zip', 'C:\\\\Program Files\\\\WindowsApps\\\\PythonSoftwareFoundation.Python.3.10_3.10.3056.0_x64__qbz5n2kfra8p0\\\\DLLs', 'C:\\\\Program Files\\\\WindowsApps\\\\PythonSoftwareFoundation.Python.3.10_3.10.3056.0_x64__qbz5n2kfra8p0\\\\lib', 'C:\\\\Users\\\\lukas\\\\AppData\\\\Local\\\\Microsoft\\\\WindowsApps\\\\PythonSoftwareFoundation.Python.3.10_qbz5n2kfra8p0', '', 'C:\\\\Users\\\\lukas\\\\AppData\\\\Local\\\\Packages\\\\PythonSoftwareFoundation.Python.3.10_qbz5n2kfra8p0\\\\LocalCache\\\\local-packages\\\\Python310\\\\site-packages', 'C:\\\\Users\\\\lukas\\\\AppData\\\\Local\\\\Packages\\\\PythonSoftwareFoundation.Python.3.10_qbz5n2kfra8p0\\\\LocalCache\\\\local-packages\\\\Python310\\\\site-packages\\\\win32', 'C:\\\\Users\\\\lukas\\\\AppData\\\\Local\\\\Packages\\\\PythonSoftwareFoundation.Python.3.10_qbz5n2kfra8p0\\\\LocalCache\\\\local-packages\\\\Python310\\\\site-packages\\\\win32\\\\lib', 'C:\\\\Users\\\\lukas\\\\AppData\\\\Local\\\\Packages\\\\PythonSoftwareFoundation.Python.3.10_qbz5n2kfra8p0\\\\LocalCache\\\\local-packages\\\\Python310\\\\site-packages\\\\Pythonwin', 'C:\\\\Program Files\\\\WindowsApps\\\\PythonSoftwareFoundation.Python.3.10_3.10.3056.0_x64__qbz5n2kfra8p0', 'C:\\\\Program Files\\\\WindowsApps\\\\PythonSoftwareFoundation.Python.3.10_3.10.3056.0_x64__qbz5n2kfra8p0\\\\lib\\\\site-packages', 'E:\\\\Workspace\\\\github\\\\python-cantools-broqer']\n"
     ]
    }
   ],
   "source": [
    "import sys\n",
    "import os\n",
    "sys.path.append(os.getcwd())\n",
    "print(sys.path)\n",
    "import logging\n",
    "logging.basicConfig(level=logging.DEBUG)"
   ]
  },
  {
   "cell_type": "code",
   "execution_count": 3,
   "id": "c6742106-8f39-4040-9c14-e96934f5c8c1",
   "metadata": {},
   "outputs": [],
   "source": [
    "from canbro import Node"
   ]
  },
  {
   "cell_type": "code",
   "execution_count": 4,
   "id": "c2372e60-48f9-4f4d-8981-cffb257311cf",
   "metadata": {},
   "outputs": [],
   "source": [
    "db = load_file('.\\examples\\J1939.dbc')"
   ]
  },
  {
   "cell_type": "code",
   "execution_count": 5,
   "id": "8c87fdc5-ae05-48ee-8e00-ecef656b527a",
   "metadata": {},
   "outputs": [
    {
     "name": "stderr",
     "output_type": "stream",
     "text": [
      "DEBUG:can:can config: {'interface': 'virtual', 'channel': 'test'}\n",
      "DEBUG:root:Create signal values for <canbro.node.Node object at 0x000002766025C490>\n",
      "DEBUG:root:Create receiver message Message1\n",
      "DEBUG:root:Update CAN message callback: Message1\n",
      "DEBUG:root:Create sender message Message2\n",
      "DEBUG:root:None\n"
     ]
    }
   ],
   "source": [
    "ecu = Node(name=db._nodes[0].name,bus=Bus('test', interface='virtual'),database=db )"
   ]
  },
  {
   "cell_type": "code",
   "execution_count": 6,
   "id": "83ded27c-d94a-4893-8be5-e6861ebb4c50",
   "metadata": {},
   "outputs": [
    {
     "name": "stderr",
     "output_type": "stream",
     "text": [
      "DEBUG:root:10\n"
     ]
    }
   ],
   "source": [
    "ecu.Message2._signal_Signal2.notify(10)"
   ]
  },
  {
   "cell_type": "code",
   "execution_count": 7,
   "id": "e4d1a84b-0e86-4614-a0b3-155bebeefb81",
   "metadata": {},
   "outputs": [
    {
     "data": {
      "text/plain": [
       "<property at 0x27660368b30>"
      ]
     },
     "execution_count": 7,
     "metadata": {},
     "output_type": "execute_result"
    }
   ],
   "source": [
    "ecu.Message2.Signal2"
   ]
  },
  {
   "cell_type": "code",
   "execution_count": 8,
   "id": "781b5f7b-4136-49d8-bbe8-bbcdf86cbe52",
   "metadata": {},
   "outputs": [
    {
     "name": "stderr",
     "output_type": "stream",
     "text": [
      "DEBUG:root:is a resiver signal and can not be set! value=2\n"
     ]
    }
   ],
   "source": [
    "ecu.Message1._set_Signal1(2)"
   ]
  },
  {
   "cell_type": "code",
   "execution_count": 9,
   "id": "c9312c9a-0729-4e53-b303-0e7cfd976d44",
   "metadata": {},
   "outputs": [
    {
     "name": "stderr",
     "output_type": "stream",
     "text": [
      "DEBUG:root:1\n"
     ]
    }
   ],
   "source": [
    "ecu.Message2._set_Signal2(1)"
   ]
  },
  {
   "cell_type": "code",
   "execution_count": 10,
   "id": "eaeb709c-1018-4780-b788-68dfbf11c83c",
   "metadata": {},
   "outputs": [
    {
     "data": {
      "text/plain": [
       "Ellipsis"
      ]
     },
     "execution_count": 10,
     "metadata": {},
     "output_type": "execute_result"
    }
   ],
   "source": [
    "ecu.Message1._get_Signal1()"
   ]
  },
  {
   "cell_type": "code",
   "execution_count": 11,
   "id": "bcc1cdb6-7239-48bc-a3e2-43ced13b3606",
   "metadata": {},
   "outputs": [
    {
     "data": {
      "text/plain": [
       "<property at 0x27660367b00>"
      ]
     },
     "execution_count": 11,
     "metadata": {},
     "output_type": "execute_result"
    }
   ],
   "source": [
    "ecu.Message1.Signal1"
   ]
  },
  {
   "cell_type": "code",
   "execution_count": 12,
   "id": "5be0e22d-561a-4427-88ce-100ecfcd352c",
   "metadata": {},
   "outputs": [
    {
     "data": {
      "text/plain": [
       "['__class__',\n",
       " '__delattr__',\n",
       " '__delete__',\n",
       " '__dir__',\n",
       " '__doc__',\n",
       " '__eq__',\n",
       " '__format__',\n",
       " '__ge__',\n",
       " '__get__',\n",
       " '__getattribute__',\n",
       " '__gt__',\n",
       " '__hash__',\n",
       " '__init__',\n",
       " '__init_subclass__',\n",
       " '__isabstractmethod__',\n",
       " '__le__',\n",
       " '__lt__',\n",
       " '__ne__',\n",
       " '__new__',\n",
       " '__reduce__',\n",
       " '__reduce_ex__',\n",
       " '__repr__',\n",
       " '__set__',\n",
       " '__set_name__',\n",
       " '__setattr__',\n",
       " '__sizeof__',\n",
       " '__str__',\n",
       " '__subclasshook__',\n",
       " 'deleter',\n",
       " 'fdel',\n",
       " 'fget',\n",
       " 'fset',\n",
       " 'getter',\n",
       " 'setter']"
      ]
     },
     "execution_count": 12,
     "metadata": {},
     "output_type": "execute_result"
    }
   ],
   "source": [
    "dir(ecu.Message1.Signal1)"
   ]
  },
  {
   "cell_type": "code",
   "execution_count": 13,
   "id": "175bb759-5dbb-44f8-8a49-bbc1c1f3d9ab",
   "metadata": {},
   "outputs": [
    {
     "name": "stdout",
     "output_type": "stream",
     "text": [
      "2\n"
     ]
    }
   ],
   "source": [
    "class Foo(object):\n",
    "    def __init__(self):\n",
    "        print(\"1\")\n",
    "    def get_bar(self):\n",
    "       return \"bar\"\n",
    "    print(\"2\")\n",
    "    bar = property(get_bar)"
   ]
  },
  {
   "cell_type": "code",
   "execution_count": 14,
   "id": "8fe49b1d-b26f-4178-b356-e23fda7f5561",
   "metadata": {},
   "outputs": [
    {
     "name": "stdout",
     "output_type": "stream",
     "text": [
      "1\n"
     ]
    }
   ],
   "source": [
    "a = Foo()"
   ]
  },
  {
   "cell_type": "code",
   "execution_count": 15,
   "id": "bd34777a-a7ab-47b9-ac8b-51cfe346f90c",
   "metadata": {},
   "outputs": [],
   "source": [
    "import can"
   ]
  },
  {
   "cell_type": "code",
   "execution_count": 18,
   "id": "4622e52d-a6cc-470e-8efe-091994b1012d",
   "metadata": {},
   "outputs": [],
   "source": [
    "ecu._bus.send(can.Message(arbitration_id=0xabcde, data=[1,2,3]))"
   ]
  },
  {
   "cell_type": "code",
   "execution_count": 19,
   "id": "2fd68bfb-bcb3-4cb1-ba4f-f85d9252d739",
   "metadata": {},
   "outputs": [
    {
     "data": {
      "text/plain": [
       "can.Message(timestamp=1697143283.3371272, arbitration_id=0xabcde, is_extended_id=True, channel='test', dlc=3, data=[0x1, 0x2, 0x3])"
      ]
     },
     "execution_count": 19,
     "metadata": {},
     "output_type": "execute_result"
    }
   ],
   "source": [
    "bus2.recv()"
   ]
  },
  {
   "cell_type": "code",
   "execution_count": 17,
   "id": "38220955-3c88-4b49-a240-36be0bb0cbb9",
   "metadata": {},
   "outputs": [
    {
     "name": "stderr",
     "output_type": "stream",
     "text": [
      "DEBUG:can:can config: {'interface': 'virtual', 'channel': 'test'}\n",
      "DEBUG:can:can config: {'interface': 'virtual', 'channel': 'test'}\n"
     ]
    }
   ],
   "source": [
    "import can\n",
    "\n",
    "bus1 = can.interface.Bus('test', interface='virtual')\n",
    "bus2 = can.interface.Bus('test', interface='virtual')\n",
    "\n",
    "msg1 = can.Message(arbitration_id=0xabcde, data=[1,2,3])\n",
    "bus1.send(msg1)\n",
    "msg2 = bus2.recv()\n",
    "\n",
    "#assert msg1 == msg2\n",
    "assert msg1.arbitration_id == msg2.arbitration_id\n",
    "assert msg1.data == msg2.data\n",
    "assert msg1.timestamp != msg2.timestamp"
   ]
  }
 ],
 "metadata": {
  "ipyflow": {
   "cell_children": {
    "009f37f9-342d-4ea0-a45b-6072f4c02671": [],
    "0150678a-ad32-4d4a-8e1b-b49811d0c7c6": [],
    "0c776e80-7c15-4899-94ec-7b9e4383995d": [],
    "15ff42c9-740a-4ba3-829d-2c839969b884": [],
    "1729d440-8793-4e9a-ba57-7c8e6b39c062": [
     "0c776e80-7c15-4899-94ec-7b9e4383995d",
     "d27da040-bc2b-4c79-b2d7-f3e141cbc412",
     "db80f848-d3d3-4e34-9559-922ba7826f96"
    ],
    "175bb759-5dbb-44f8-8a49-bbc1c1f3d9ab": [
     "8fe49b1d-b26f-4178-b356-e23fda7f5561"
    ],
    "2aedebb9-f1a6-4d20-b968-a8c06ebad696": [],
    "2b65fdb5-24e2-4d93-8bf9-c267e699a206": [],
    "2fd68bfb-bcb3-4cb1-ba4f-f85d9252d739": [],
    "36c8d914-9c32-4364-ae55-09753dc2a097": [],
    "38220955-3c88-4b49-a240-36be0bb0cbb9": [],
    "3e24a9bc-3f26-4aca-9802-38868326daf3": [],
    "4622e52d-a6cc-470e-8efe-091994b1012d": [],
    "4811ef56-0402-4bee-bab1-326285f4c441": [
     "c2372e60-48f9-4f4d-8981-cffb257311cf",
     "8c87fdc5-ae05-48ee-8e00-ecef656b527a"
    ],
    "5be0e22d-561a-4427-88ce-100ecfcd352c": [],
    "65d3cc5d-3202-4aae-b698-eed1d1c6607c": [],
    "781b5f7b-4136-49d8-bbe8-bbcdf86cbe52": [
     "bcc1cdb6-7239-48bc-a3e2-43ced13b3606",
     "5be0e22d-561a-4427-88ce-100ecfcd352c",
     "eaeb709c-1018-4780-b788-68dfbf11c83c"
    ],
    "83ded27c-d94a-4893-8be5-e6861ebb4c50": [
     "781b5f7b-4136-49d8-bbe8-bbcdf86cbe52",
     "e4d1a84b-0e86-4614-a0b3-155bebeefb81",
     "c9312c9a-0729-4e53-b303-0e7cfd976d44"
    ],
    "8c87fdc5-ae05-48ee-8e00-ecef656b527a": [
     "bcc1cdb6-7239-48bc-a3e2-43ced13b3606",
     "4622e52d-a6cc-470e-8efe-091994b1012d",
     "e4d1a84b-0e86-4614-a0b3-155bebeefb81",
     "eaeb709c-1018-4780-b788-68dfbf11c83c",
     "c9312c9a-0729-4e53-b303-0e7cfd976d44",
     "5be0e22d-561a-4427-88ce-100ecfcd352c",
     "83ded27c-d94a-4893-8be5-e6861ebb4c50",
     "781b5f7b-4136-49d8-bbe8-bbcdf86cbe52"
    ],
    "8fe49b1d-b26f-4178-b356-e23fda7f5561": [],
    "bcc1cdb6-7239-48bc-a3e2-43ced13b3606": [],
    "bd34777a-a7ab-47b9-ac8b-51cfe346f90c": [
     "38220955-3c88-4b49-a240-36be0bb0cbb9",
     "4622e52d-a6cc-470e-8efe-091994b1012d"
    ],
    "c2372e60-48f9-4f4d-8981-cffb257311cf": [
     "8c87fdc5-ae05-48ee-8e00-ecef656b527a"
    ],
    "c6742106-8f39-4040-9c14-e96934f5c8c1": [
     "8c87fdc5-ae05-48ee-8e00-ecef656b527a"
    ],
    "c9312c9a-0729-4e53-b303-0e7cfd976d44": [],
    "d27da040-bc2b-4c79-b2d7-f3e141cbc412": [],
    "db80f848-d3d3-4e34-9559-922ba7826f96": [],
    "e4d1a84b-0e86-4614-a0b3-155bebeefb81": [],
    "eaeb709c-1018-4780-b788-68dfbf11c83c": [],
    "f6e68e4a-6bf2-475c-8028-04a0aa4d874f": []
   },
   "cell_parents": {
    "009f37f9-342d-4ea0-a45b-6072f4c02671": [],
    "0150678a-ad32-4d4a-8e1b-b49811d0c7c6": [],
    "0c776e80-7c15-4899-94ec-7b9e4383995d": [],
    "15ff42c9-740a-4ba3-829d-2c839969b884": [],
    "1729d440-8793-4e9a-ba57-7c8e6b39c062": [],
    "175bb759-5dbb-44f8-8a49-bbc1c1f3d9ab": [],
    "2aedebb9-f1a6-4d20-b968-a8c06ebad696": [],
    "2b65fdb5-24e2-4d93-8bf9-c267e699a206": [],
    "2fd68bfb-bcb3-4cb1-ba4f-f85d9252d739": [],
    "36c8d914-9c32-4364-ae55-09753dc2a097": [
     "2aedebb9-f1a6-4d20-b968-a8c06ebad696"
    ],
    "38220955-3c88-4b49-a240-36be0bb0cbb9": [
     "bd34777a-a7ab-47b9-ac8b-51cfe346f90c"
    ],
    "3e24a9bc-3f26-4aca-9802-38868326daf3": [],
    "4622e52d-a6cc-470e-8efe-091994b1012d": [
     "bd34777a-a7ab-47b9-ac8b-51cfe346f90c",
     "8c87fdc5-ae05-48ee-8e00-ecef656b527a"
    ],
    "4811ef56-0402-4bee-bab1-326285f4c441": [],
    "5be0e22d-561a-4427-88ce-100ecfcd352c": [
     "781b5f7b-4136-49d8-bbe8-bbcdf86cbe52",
     "8c87fdc5-ae05-48ee-8e00-ecef656b527a"
    ],
    "65d3cc5d-3202-4aae-b698-eed1d1c6607c": [],
    "781b5f7b-4136-49d8-bbe8-bbcdf86cbe52": [
     "83ded27c-d94a-4893-8be5-e6861ebb4c50",
     "8c87fdc5-ae05-48ee-8e00-ecef656b527a"
    ],
    "83ded27c-d94a-4893-8be5-e6861ebb4c50": [
     "8c87fdc5-ae05-48ee-8e00-ecef656b527a"
    ],
    "8c87fdc5-ae05-48ee-8e00-ecef656b527a": [
     "c6742106-8f39-4040-9c14-e96934f5c8c1",
     "c2372e60-48f9-4f4d-8981-cffb257311cf",
     "4811ef56-0402-4bee-bab1-326285f4c441"
    ],
    "8fe49b1d-b26f-4178-b356-e23fda7f5561": [
     "175bb759-5dbb-44f8-8a49-bbc1c1f3d9ab"
    ],
    "bcc1cdb6-7239-48bc-a3e2-43ced13b3606": [
     "781b5f7b-4136-49d8-bbe8-bbcdf86cbe52",
     "8c87fdc5-ae05-48ee-8e00-ecef656b527a"
    ],
    "bd34777a-a7ab-47b9-ac8b-51cfe346f90c": [],
    "c2372e60-48f9-4f4d-8981-cffb257311cf": [
     "4811ef56-0402-4bee-bab1-326285f4c441"
    ],
    "c6742106-8f39-4040-9c14-e96934f5c8c1": [],
    "c9312c9a-0729-4e53-b303-0e7cfd976d44": [
     "83ded27c-d94a-4893-8be5-e6861ebb4c50",
     "8c87fdc5-ae05-48ee-8e00-ecef656b527a"
    ],
    "d27da040-bc2b-4c79-b2d7-f3e141cbc412": [],
    "db80f848-d3d3-4e34-9559-922ba7826f96": [],
    "e4d1a84b-0e86-4614-a0b3-155bebeefb81": [
     "83ded27c-d94a-4893-8be5-e6861ebb4c50",
     "8c87fdc5-ae05-48ee-8e00-ecef656b527a"
    ],
    "eaeb709c-1018-4780-b788-68dfbf11c83c": [
     "781b5f7b-4136-49d8-bbe8-bbcdf86cbe52",
     "8c87fdc5-ae05-48ee-8e00-ecef656b527a"
    ],
    "f6e68e4a-6bf2-475c-8028-04a0aa4d874f": []
   }
  },
  "kernelspec": {
   "display_name": "Python 3 (ipyflow)",
   "language": "python",
   "name": "ipyflow"
  },
  "language_info": {
   "codemirror_mode": {
    "name": "ipython",
    "version": 3
   },
   "file_extension": ".py",
   "mimetype": "text/x-python",
   "name": "python",
   "nbconvert_exporter": "python",
   "pygments_lexer": "ipython3",
   "version": "3.10.11"
  }
 },
 "nbformat": 4,
 "nbformat_minor": 5
}
