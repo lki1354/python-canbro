{
 "cells": [
  {
   "cell_type": "code",
   "execution_count": 1,
   "id": "4811ef56-0402-4bee-bab1-326285f4c441",
   "metadata": {},
   "outputs": [
    {
     "name": "stderr",
     "output_type": "stream",
     "text": [
      "mismatch between cell counter (4) and saved ipython counter (1)\n",
      "fixing up to actual counter of 1\n"
     ]
    }
   ],
   "source": [
    "from can.interface import Bus\n",
    "from cantools.database import load_file"
   ]
  },
  {
   "cell_type": "code",
   "execution_count": 2,
   "id": "2aedebb9-f1a6-4d20-b968-a8c06ebad696",
   "metadata": {},
   "outputs": [
    {
     "name": "stdout",
     "output_type": "stream",
     "text": [
      "['c:\\\\Work\\\\Github\\\\python-canbro', 'c:\\\\Users\\\\lukas.riegler\\\\AppData\\\\Local\\\\Programs\\\\Python\\\\Python312\\\\python312.zip', 'c:\\\\Users\\\\lukas.riegler\\\\AppData\\\\Local\\\\Programs\\\\Python\\\\Python312\\\\DLLs', 'c:\\\\Users\\\\lukas.riegler\\\\AppData\\\\Local\\\\Programs\\\\Python\\\\Python312\\\\Lib', 'c:\\\\Users\\\\lukas.riegler\\\\AppData\\\\Local\\\\Programs\\\\Python\\\\Python312', '', 'c:\\\\Users\\\\lukas.riegler\\\\AppData\\\\Local\\\\Programs\\\\Python\\\\Python312\\\\Lib\\\\site-packages', 'c:\\\\Users\\\\lukas.riegler\\\\AppData\\\\Local\\\\Programs\\\\Python\\\\Python312\\\\Lib\\\\site-packages\\\\win32', 'c:\\\\Users\\\\lukas.riegler\\\\AppData\\\\Local\\\\Programs\\\\Python\\\\Python312\\\\Lib\\\\site-packages\\\\win32\\\\lib', 'c:\\\\Users\\\\lukas.riegler\\\\AppData\\\\Local\\\\Programs\\\\Python\\\\Python312\\\\Lib\\\\site-packages\\\\Pythonwin', 'c:\\\\Work\\\\Github\\\\python-canbro']\n"
     ]
    }
   ],
   "source": [
    "import sys\n",
    "import os\n",
    "sys.path.append(os.getcwd())\n",
    "print(sys.path)\n",
    "import logging\n",
    "logging.basicConfig(level=logging.DEBUG)"
   ]
  },
  {
   "cell_type": "code",
   "execution_count": 3,
   "id": "c6742106-8f39-4040-9c14-e96934f5c8c1",
   "metadata": {},
   "outputs": [
    {
     "ename": "NameError",
     "evalue": "name 'function' is not defined",
     "output_type": "error",
     "traceback": [
      "\u001b[1;31m---------------------------------------------------------------------------\u001b[0m",
      "\u001b[1;31mNameError\u001b[0m                                 Traceback (most recent call last)",
      "\u001b[1;32mc:\\Work\\Github\\python-canbro\\poc_ipyflow1.ipynb Cell 3\u001b[0m line \u001b[0;36m1\n\u001b[1;32m----> <a href='vscode-notebook-cell:/c%3A/Work/Github/python-canbro/poc_ipyflow1.ipynb#W2sZmlsZQ%3D%3D?line=0'>1</a>\u001b[0m \u001b[39mfrom\u001b[39;00m \u001b[39mcanbro\u001b[39;00m \u001b[39mimport\u001b[39;00m Node\n",
      "File \u001b[1;32m<frozen importlib._bootstrap>:1354\u001b[0m, in \u001b[0;36m_find_and_load\u001b[1;34m(name, import_)\u001b[0m\n",
      "File \u001b[1;32m<frozen importlib._bootstrap>:1325\u001b[0m, in \u001b[0;36m_find_and_load_unlocked\u001b[1;34m(name, import_)\u001b[0m\n",
      "File \u001b[1;32m<frozen importlib._bootstrap>:929\u001b[0m, in \u001b[0;36m_load_unlocked\u001b[1;34m(spec)\u001b[0m\n",
      "File \u001b[1;32mc:\\Users\\lukas.riegler\\AppData\\Local\\Programs\\Python\\Python312\\Lib\\site-packages\\pyccolo\\import_hooks.py:123\u001b[0m, in \u001b[0;36mTraceLoader.exec_module\u001b[1;34m(self, module)\u001b[0m\n\u001b[0;32m    121\u001b[0m         tracer\u001b[39m.\u001b[39m_disable_tracing()\n\u001b[0;32m    122\u001b[0m should_reenable_saved_state\u001b[39m.\u001b[39mreverse()\n\u001b[1;32m--> 123\u001b[0m \u001b[39msuper\u001b[39;49m()\u001b[39m.\u001b[39;49mexec_module(module)\n\u001b[0;32m    124\u001b[0m \u001b[39mfor\u001b[39;00m tracer, should_reenable \u001b[39min\u001b[39;00m \u001b[39mzip\u001b[39m(\u001b[39mself\u001b[39m\u001b[39m.\u001b[39m_tracers, should_reenable_saved_state):\n\u001b[0;32m    125\u001b[0m     tracer\u001b[39m.\u001b[39m_emit_event(TraceEvent\u001b[39m.\u001b[39mafter_import\u001b[39m.\u001b[39mvalue, \u001b[39mNone\u001b[39;00m, \u001b[39mNone\u001b[39;00m, module\u001b[39m=\u001b[39mmodule)\n",
      "File \u001b[1;32mc:\\Work\\Github\\python-canbro\\canbro\\__init__.py:1\u001b[0m\n\u001b[1;32m----> 1\u001b[0m \u001b[39mfrom\u001b[39;00m \u001b[39m.\u001b[39;00m\u001b[39mnetwork\u001b[39;00m \u001b[39mimport\u001b[39;00m Network\n\u001b[0;32m      2\u001b[0m \u001b[39mfrom\u001b[39;00m \u001b[39m.\u001b[39;00m\u001b[39mnode\u001b[39;00m \u001b[39mimport\u001b[39;00m Node\n\u001b[0;32m      4\u001b[0m __all__ \u001b[39m=\u001b[39m [\u001b[39m'\u001b[39m\u001b[39mNetwork\u001b[39m\u001b[39m'\u001b[39m, \u001b[39m'\u001b[39m\u001b[39mNode\u001b[39m\u001b[39m'\u001b[39m]\n",
      "File \u001b[1;32m<frozen importlib._bootstrap>:1354\u001b[0m, in \u001b[0;36m_find_and_load\u001b[1;34m(name, import_)\u001b[0m\n",
      "File \u001b[1;32m<frozen importlib._bootstrap>:1325\u001b[0m, in \u001b[0;36m_find_and_load_unlocked\u001b[1;34m(name, import_)\u001b[0m\n",
      "File \u001b[1;32m<frozen importlib._bootstrap>:929\u001b[0m, in \u001b[0;36m_load_unlocked\u001b[1;34m(spec)\u001b[0m\n",
      "File \u001b[1;32mc:\\Users\\lukas.riegler\\AppData\\Local\\Programs\\Python\\Python312\\Lib\\site-packages\\pyccolo\\import_hooks.py:123\u001b[0m, in \u001b[0;36mTraceLoader.exec_module\u001b[1;34m(self, module)\u001b[0m\n\u001b[0;32m    121\u001b[0m         tracer\u001b[39m.\u001b[39m_disable_tracing()\n\u001b[0;32m    122\u001b[0m should_reenable_saved_state\u001b[39m.\u001b[39mreverse()\n\u001b[1;32m--> 123\u001b[0m \u001b[39msuper\u001b[39;49m()\u001b[39m.\u001b[39;49mexec_module(module)\n\u001b[0;32m    124\u001b[0m \u001b[39mfor\u001b[39;00m tracer, should_reenable \u001b[39min\u001b[39;00m \u001b[39mzip\u001b[39m(\u001b[39mself\u001b[39m\u001b[39m.\u001b[39m_tracers, should_reenable_saved_state):\n\u001b[0;32m    125\u001b[0m     tracer\u001b[39m.\u001b[39m_emit_event(TraceEvent\u001b[39m.\u001b[39mafter_import\u001b[39m.\u001b[39mvalue, \u001b[39mNone\u001b[39;00m, \u001b[39mNone\u001b[39;00m, module\u001b[39m=\u001b[39mmodule)\n",
      "File \u001b[1;32mc:\\Work\\Github\\python-canbro\\canbro\\network.py:5\u001b[0m\n\u001b[0;32m      3\u001b[0m \u001b[39mfrom\u001b[39;00m \u001b[39mconfigparser\u001b[39;00m \u001b[39mimport\u001b[39;00m ConfigParser\n\u001b[0;32m      4\u001b[0m \u001b[39mimport\u001b[39;00m \u001b[39mlogging\u001b[39;00m\n\u001b[1;32m----> 5\u001b[0m \u001b[39mfrom\u001b[39;00m \u001b[39m.\u001b[39;00m\u001b[39mnode\u001b[39;00m \u001b[39mimport\u001b[39;00m Node\n\u001b[0;32m      7\u001b[0m log \u001b[39m=\u001b[39m logging\u001b[39m.\u001b[39mgetLogger(\u001b[39m__name__\u001b[39m)\n\u001b[0;32m     11\u001b[0m \u001b[39mclass\u001b[39;00m \u001b[39mNetwork\u001b[39;00m:\n",
      "File \u001b[1;32m<frozen importlib._bootstrap>:1354\u001b[0m, in \u001b[0;36m_find_and_load\u001b[1;34m(name, import_)\u001b[0m\n",
      "File \u001b[1;32m<frozen importlib._bootstrap>:1325\u001b[0m, in \u001b[0;36m_find_and_load_unlocked\u001b[1;34m(name, import_)\u001b[0m\n",
      "File \u001b[1;32m<frozen importlib._bootstrap>:929\u001b[0m, in \u001b[0;36m_load_unlocked\u001b[1;34m(spec)\u001b[0m\n",
      "File \u001b[1;32mc:\\Users\\lukas.riegler\\AppData\\Local\\Programs\\Python\\Python312\\Lib\\site-packages\\pyccolo\\import_hooks.py:123\u001b[0m, in \u001b[0;36mTraceLoader.exec_module\u001b[1;34m(self, module)\u001b[0m\n\u001b[0;32m    121\u001b[0m         tracer\u001b[39m.\u001b[39m_disable_tracing()\n\u001b[0;32m    122\u001b[0m should_reenable_saved_state\u001b[39m.\u001b[39mreverse()\n\u001b[1;32m--> 123\u001b[0m \u001b[39msuper\u001b[39;49m()\u001b[39m.\u001b[39;49mexec_module(module)\n\u001b[0;32m    124\u001b[0m \u001b[39mfor\u001b[39;00m tracer, should_reenable \u001b[39min\u001b[39;00m \u001b[39mzip\u001b[39m(\u001b[39mself\u001b[39m\u001b[39m.\u001b[39m_tracers, should_reenable_saved_state):\n\u001b[0;32m    125\u001b[0m     tracer\u001b[39m.\u001b[39m_emit_event(TraceEvent\u001b[39m.\u001b[39mafter_import\u001b[39m.\u001b[39mvalue, \u001b[39mNone\u001b[39;00m, \u001b[39mNone\u001b[39;00m, module\u001b[39m=\u001b[39mmodule)\n",
      "File \u001b[1;32mc:\\Work\\Github\\python-canbro\\canbro\\node.py:13\u001b[0m\n\u001b[0;32m      9\u001b[0m         \u001b[39msuper\u001b[39m()\u001b[39m.\u001b[39m\u001b[39m__init__\u001b[39m()\n\u001b[0;32m     10\u001b[0m         \u001b[39mself\u001b[39m\u001b[39m.\u001b[39m_metadata \u001b[39m=\u001b[39m metadata\n\u001b[1;32m---> 13\u001b[0m \u001b[39mclass\u001b[39;49;00m \u001b[39mMessage\u001b[39;49;00m(Value):\n\u001b[0;32m     14\u001b[0m     \u001b[39mdef\u001b[39;49;00m \u001b[39m__init__\u001b[39;49m(\u001b[39mself\u001b[39;49m, metadata:Database, sender:\u001b[39mbool\u001b[39;49m, transmitter:function\u001b[39m=\u001b[39;49m\u001b[39mNone\u001b[39;49;00m):\n\u001b[0;32m     15\u001b[0m         \u001b[39msuper\u001b[39;49m()\u001b[39m.\u001b[39;49m\u001b[39m__init__\u001b[39;49m()\n",
      "File \u001b[1;32mc:\\Work\\Github\\python-canbro\\canbro\\node.py:14\u001b[0m, in \u001b[0;36mMessage\u001b[1;34m()\u001b[0m\n\u001b[0;32m     13\u001b[0m \u001b[39mclass\u001b[39;00m \u001b[39mMessage\u001b[39;00m(Value):\n\u001b[1;32m---> 14\u001b[0m     \u001b[39mdef\u001b[39;00m \u001b[39m__init__\u001b[39m(\u001b[39mself\u001b[39m, metadata:Database, sender:\u001b[39mbool\u001b[39m, transmitter:function\u001b[39m=\u001b[39m\u001b[39mNone\u001b[39;00m):\n\u001b[0;32m     15\u001b[0m         \u001b[39msuper\u001b[39m()\u001b[39m.\u001b[39m\u001b[39m__init__\u001b[39m()\n\u001b[0;32m     16\u001b[0m         \u001b[39mself\u001b[39m\u001b[39m.\u001b[39m_metadata \u001b[39m=\u001b[39m metadata\n",
      "\u001b[1;31mNameError\u001b[0m: name 'function' is not defined"
     ]
    }
   ],
   "source": [
    "from canbro import Node"
   ]
  },
  {
   "cell_type": "code",
   "execution_count": null,
   "id": "c2372e60-48f9-4f4d-8981-cffb257311cf",
   "metadata": {},
   "outputs": [],
   "source": [
    "db = load_file('.\\examples\\J1939.dbc')"
   ]
  },
  {
   "cell_type": "code",
   "execution_count": null,
   "id": "8c87fdc5-ae05-48ee-8e00-ecef656b527a",
   "metadata": {},
   "outputs": [],
   "source": [
    "ecu = Node(name=db._nodes[0].name,bus=Bus('test', interface='virtual'),database=db )"
   ]
  },
  {
   "cell_type": "code",
   "execution_count": null,
   "id": "83ded27c-d94a-4893-8be5-e6861ebb4c50",
   "metadata": {},
   "outputs": [],
   "source": [
    "ecu.Message2._signal_Signal2.notify(10)"
   ]
  },
  {
   "cell_type": "code",
   "execution_count": null,
   "id": "e4d1a84b-0e86-4614-a0b3-155bebeefb81",
   "metadata": {},
   "outputs": [],
   "source": [
    "ecu.Message2.Signal2"
   ]
  },
  {
   "cell_type": "code",
   "execution_count": null,
   "id": "781b5f7b-4136-49d8-bbe8-bbcdf86cbe52",
   "metadata": {},
   "outputs": [],
   "source": [
    "ecu.Message1._set_Signal1(2)"
   ]
  },
  {
   "cell_type": "code",
   "execution_count": null,
   "id": "c9312c9a-0729-4e53-b303-0e7cfd976d44",
   "metadata": {},
   "outputs": [],
   "source": [
    "ecu.Message2._set_Signal2(1)"
   ]
  },
  {
   "cell_type": "code",
   "execution_count": null,
   "id": "eaeb709c-1018-4780-b788-68dfbf11c83c",
   "metadata": {},
   "outputs": [],
   "source": [
    "ecu.Message1._get_Signal1()"
   ]
  },
  {
   "cell_type": "code",
   "execution_count": null,
   "id": "bcc1cdb6-7239-48bc-a3e2-43ced13b3606",
   "metadata": {},
   "outputs": [],
   "source": [
    "ecu.Message1.Signal1"
   ]
  },
  {
   "cell_type": "code",
   "execution_count": null,
   "id": "5be0e22d-561a-4427-88ce-100ecfcd352c",
   "metadata": {},
   "outputs": [],
   "source": [
    "dir(ecu.Message1.Signal1)"
   ]
  },
  {
   "cell_type": "code",
   "execution_count": null,
   "id": "175bb759-5dbb-44f8-8a49-bbc1c1f3d9ab",
   "metadata": {},
   "outputs": [],
   "source": [
    "class Foo(object):\n",
    "    def __init__(self):\n",
    "        print(\"1\")\n",
    "    def get_bar(self):\n",
    "       return \"bar\"\n",
    "    print(\"2\")\n",
    "    bar = property(get_bar)"
   ]
  },
  {
   "cell_type": "code",
   "execution_count": null,
   "id": "8fe49b1d-b26f-4178-b356-e23fda7f5561",
   "metadata": {},
   "outputs": [],
   "source": [
    "a = Foo()"
   ]
  },
  {
   "cell_type": "code",
   "execution_count": null,
   "id": "bd34777a-a7ab-47b9-ac8b-51cfe346f90c",
   "metadata": {},
   "outputs": [],
   "source": [
    "import can"
   ]
  },
  {
   "cell_type": "code",
   "execution_count": null,
   "id": "4622e52d-a6cc-470e-8efe-091994b1012d",
   "metadata": {},
   "outputs": [],
   "source": [
    "ecu._bus.send(can.Message(arbitration_id=0xabcde, data=[1,2,3]))"
   ]
  },
  {
   "cell_type": "code",
   "execution_count": null,
   "id": "2fd68bfb-bcb3-4cb1-ba4f-f85d9252d739",
   "metadata": {},
   "outputs": [],
   "source": [
    "bus2.recv()"
   ]
  },
  {
   "cell_type": "code",
   "execution_count": null,
   "id": "38220955-3c88-4b49-a240-36be0bb0cbb9",
   "metadata": {},
   "outputs": [],
   "source": [
    "import can\n",
    "\n",
    "bus1 = can.interface.Bus('test', interface='virtual')\n",
    "bus2 = can.interface.Bus('test', interface='virtual')\n",
    "\n",
    "msg1 = can.Message(arbitration_id=0xabcde, data=[1,2,3])\n",
    "bus1.send(msg1)\n",
    "msg2 = bus2.recv()\n",
    "\n",
    "#assert msg1 == msg2\n",
    "assert msg1.arbitration_id == msg2.arbitration_id\n",
    "assert msg1.data == msg2.data\n",
    "assert msg1.timestamp != msg2.timestamp"
   ]
  }
 ],
 "metadata": {
  "ipyflow": {
   "cell_children": {
    "009f37f9-342d-4ea0-a45b-6072f4c02671": [],
    "0150678a-ad32-4d4a-8e1b-b49811d0c7c6": [],
    "0c776e80-7c15-4899-94ec-7b9e4383995d": [],
    "15ff42c9-740a-4ba3-829d-2c839969b884": [],
    "1729d440-8793-4e9a-ba57-7c8e6b39c062": [
     "0c776e80-7c15-4899-94ec-7b9e4383995d",
     "d27da040-bc2b-4c79-b2d7-f3e141cbc412",
     "db80f848-d3d3-4e34-9559-922ba7826f96"
    ],
    "175bb759-5dbb-44f8-8a49-bbc1c1f3d9ab": [
     "8fe49b1d-b26f-4178-b356-e23fda7f5561"
    ],
    "2aedebb9-f1a6-4d20-b968-a8c06ebad696": [],
    "2b65fdb5-24e2-4d93-8bf9-c267e699a206": [],
    "2fd68bfb-bcb3-4cb1-ba4f-f85d9252d739": [],
    "36c8d914-9c32-4364-ae55-09753dc2a097": [],
    "38220955-3c88-4b49-a240-36be0bb0cbb9": [],
    "3e24a9bc-3f26-4aca-9802-38868326daf3": [],
    "4622e52d-a6cc-470e-8efe-091994b1012d": [],
    "4811ef56-0402-4bee-bab1-326285f4c441": [
     "c2372e60-48f9-4f4d-8981-cffb257311cf",
     "8c87fdc5-ae05-48ee-8e00-ecef656b527a"
    ],
    "5be0e22d-561a-4427-88ce-100ecfcd352c": [],
    "65d3cc5d-3202-4aae-b698-eed1d1c6607c": [],
    "781b5f7b-4136-49d8-bbe8-bbcdf86cbe52": [
     "bcc1cdb6-7239-48bc-a3e2-43ced13b3606",
     "5be0e22d-561a-4427-88ce-100ecfcd352c",
     "eaeb709c-1018-4780-b788-68dfbf11c83c"
    ],
    "83ded27c-d94a-4893-8be5-e6861ebb4c50": [
     "781b5f7b-4136-49d8-bbe8-bbcdf86cbe52",
     "e4d1a84b-0e86-4614-a0b3-155bebeefb81",
     "c9312c9a-0729-4e53-b303-0e7cfd976d44"
    ],
    "8c87fdc5-ae05-48ee-8e00-ecef656b527a": [
     "bcc1cdb6-7239-48bc-a3e2-43ced13b3606",
     "4622e52d-a6cc-470e-8efe-091994b1012d",
     "e4d1a84b-0e86-4614-a0b3-155bebeefb81",
     "eaeb709c-1018-4780-b788-68dfbf11c83c",
     "c9312c9a-0729-4e53-b303-0e7cfd976d44",
     "5be0e22d-561a-4427-88ce-100ecfcd352c",
     "83ded27c-d94a-4893-8be5-e6861ebb4c50",
     "781b5f7b-4136-49d8-bbe8-bbcdf86cbe52"
    ],
    "8fe49b1d-b26f-4178-b356-e23fda7f5561": [],
    "bcc1cdb6-7239-48bc-a3e2-43ced13b3606": [],
    "bd34777a-a7ab-47b9-ac8b-51cfe346f90c": [
     "38220955-3c88-4b49-a240-36be0bb0cbb9",
     "4622e52d-a6cc-470e-8efe-091994b1012d"
    ],
    "c2372e60-48f9-4f4d-8981-cffb257311cf": [
     "8c87fdc5-ae05-48ee-8e00-ecef656b527a"
    ],
    "c6742106-8f39-4040-9c14-e96934f5c8c1": [
     "8c87fdc5-ae05-48ee-8e00-ecef656b527a"
    ],
    "c9312c9a-0729-4e53-b303-0e7cfd976d44": [],
    "d27da040-bc2b-4c79-b2d7-f3e141cbc412": [],
    "db80f848-d3d3-4e34-9559-922ba7826f96": [],
    "e4d1a84b-0e86-4614-a0b3-155bebeefb81": [],
    "eaeb709c-1018-4780-b788-68dfbf11c83c": [],
    "f6e68e4a-6bf2-475c-8028-04a0aa4d874f": []
   },
   "cell_parents": {
    "009f37f9-342d-4ea0-a45b-6072f4c02671": [],
    "0150678a-ad32-4d4a-8e1b-b49811d0c7c6": [],
    "0c776e80-7c15-4899-94ec-7b9e4383995d": [],
    "15ff42c9-740a-4ba3-829d-2c839969b884": [],
    "1729d440-8793-4e9a-ba57-7c8e6b39c062": [],
    "175bb759-5dbb-44f8-8a49-bbc1c1f3d9ab": [],
    "2aedebb9-f1a6-4d20-b968-a8c06ebad696": [],
    "2b65fdb5-24e2-4d93-8bf9-c267e699a206": [],
    "2fd68bfb-bcb3-4cb1-ba4f-f85d9252d739": [],
    "36c8d914-9c32-4364-ae55-09753dc2a097": [
     "2aedebb9-f1a6-4d20-b968-a8c06ebad696"
    ],
    "38220955-3c88-4b49-a240-36be0bb0cbb9": [
     "bd34777a-a7ab-47b9-ac8b-51cfe346f90c"
    ],
    "3e24a9bc-3f26-4aca-9802-38868326daf3": [],
    "4622e52d-a6cc-470e-8efe-091994b1012d": [
     "bd34777a-a7ab-47b9-ac8b-51cfe346f90c",
     "8c87fdc5-ae05-48ee-8e00-ecef656b527a"
    ],
    "4811ef56-0402-4bee-bab1-326285f4c441": [],
    "5be0e22d-561a-4427-88ce-100ecfcd352c": [
     "781b5f7b-4136-49d8-bbe8-bbcdf86cbe52",
     "8c87fdc5-ae05-48ee-8e00-ecef656b527a"
    ],
    "65d3cc5d-3202-4aae-b698-eed1d1c6607c": [],
    "781b5f7b-4136-49d8-bbe8-bbcdf86cbe52": [
     "83ded27c-d94a-4893-8be5-e6861ebb4c50",
     "8c87fdc5-ae05-48ee-8e00-ecef656b527a"
    ],
    "83ded27c-d94a-4893-8be5-e6861ebb4c50": [
     "8c87fdc5-ae05-48ee-8e00-ecef656b527a"
    ],
    "8c87fdc5-ae05-48ee-8e00-ecef656b527a": [
     "c6742106-8f39-4040-9c14-e96934f5c8c1",
     "c2372e60-48f9-4f4d-8981-cffb257311cf",
     "4811ef56-0402-4bee-bab1-326285f4c441"
    ],
    "8fe49b1d-b26f-4178-b356-e23fda7f5561": [
     "175bb759-5dbb-44f8-8a49-bbc1c1f3d9ab"
    ],
    "bcc1cdb6-7239-48bc-a3e2-43ced13b3606": [
     "781b5f7b-4136-49d8-bbe8-bbcdf86cbe52",
     "8c87fdc5-ae05-48ee-8e00-ecef656b527a"
    ],
    "bd34777a-a7ab-47b9-ac8b-51cfe346f90c": [],
    "c2372e60-48f9-4f4d-8981-cffb257311cf": [
     "4811ef56-0402-4bee-bab1-326285f4c441"
    ],
    "c6742106-8f39-4040-9c14-e96934f5c8c1": [],
    "c9312c9a-0729-4e53-b303-0e7cfd976d44": [
     "83ded27c-d94a-4893-8be5-e6861ebb4c50",
     "8c87fdc5-ae05-48ee-8e00-ecef656b527a"
    ],
    "d27da040-bc2b-4c79-b2d7-f3e141cbc412": [],
    "db80f848-d3d3-4e34-9559-922ba7826f96": [],
    "e4d1a84b-0e86-4614-a0b3-155bebeefb81": [
     "83ded27c-d94a-4893-8be5-e6861ebb4c50",
     "8c87fdc5-ae05-48ee-8e00-ecef656b527a"
    ],
    "eaeb709c-1018-4780-b788-68dfbf11c83c": [
     "781b5f7b-4136-49d8-bbe8-bbcdf86cbe52",
     "8c87fdc5-ae05-48ee-8e00-ecef656b527a"
    ],
    "f6e68e4a-6bf2-475c-8028-04a0aa4d874f": []
   }
  },
  "kernelspec": {
   "display_name": "Python 3 (ipyflow)",
   "language": "python",
   "name": "ipyflow"
  },
  "language_info": {
   "codemirror_mode": {
    "name": "ipython",
    "version": 3
   },
   "file_extension": ".py",
   "mimetype": "text/x-python",
   "name": "python",
   "nbconvert_exporter": "python",
   "pygments_lexer": "ipython3",
   "version": "3.12.0"
  }
 },
 "nbformat": 4,
 "nbformat_minor": 5
}
